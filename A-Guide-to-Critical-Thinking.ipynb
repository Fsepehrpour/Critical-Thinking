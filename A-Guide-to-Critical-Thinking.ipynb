{
 "cells": [
  {
   "cell_type": "markdown",
   "id": "75e54985-fce4-475b-b277-ebb87b211a3f",
   "metadata": {
    "tags": []
   },
   "source": [
    "#                Asking The Right Questions\n",
    "### A Guide to Critical Thinking \n",
    "##### M. Neil Browne * Stuart M. Keely\n",
    "\n",
    "![Book Cover](./Book-Cover.jpeg)"
   ]
  },
  {
   "cell_type": "markdown",
   "id": "6fd94bea-5075-4a6a-9e3f-caa4ad32fc87",
   "metadata": {},
   "source": [
    "Critical thinking refers to the following:\n",
    "1. awareness of a set of interrelated critical questions;\n",
    "2. ability to ask and answer critical questions at appropriate times; and the\n",
    "3. desire to actively use the critical questions."
   ]
  },
  {
   "cell_type": "markdown",
   "id": "25290955-48cd-4339-83c1-cd00772ea97d",
   "metadata": {},
   "source": [
    "Questions require the person being asked the question to act in response."
   ]
  },
  {
   "cell_type": "markdown",
   "id": "3ef4d801-1474-4933-8619-d1bd4e32b8a2",
   "metadata": {},
   "source": [
    "**By our questions, we are saying to the person: I am curious; I want to know more; help me. This request shows respect for the other person.**\n"
   ]
  },
  {
   "cell_type": "markdown",
   "id": "870d25ba-bed0-4010-b73d-7a806bfc7b60",
   "metadata": {},
   "source": [
    "**The Right Questions:**\n",
    "1. What are the issues and the conclusions?\n",
    "2. What are the reasons? \n",
    "3. Which words or phrases are ambiguous? \n",
    "4. What are the value conflicts and assumptions? \n",
    "5. What are the descriptive assuptions?\n",
    "6. Are there any fallacies in the reasoning?\n",
    "7. How good is the evidence? \n",
    "8. Are there rival causes?\n",
    "9. Are the statistics deceptive?\n",
    "10. What significant information is omitted? \n",
    "11. What reasonable conclusions are possible?"
   ]
  },
  {
   "cell_type": "markdown",
   "id": "b1f65b59-e55a-4dec-9c6e-dbbdea89378c",
   "metadata": {},
   "source": [
    "**About The first Question**"
   ]
  },
  {
   "cell_type": "markdown",
   "id": "dac56dc3-20ba-47a9-a3a5-01311ce47e0b",
   "metadata": {},
   "source": [
    "There are two types of issues: \n",
    "\n",
    "**a)** descriptive issues answered by the following questiosn: \n",
    "\n",
    "- Do? \n",
    "- What?\n",
    "- Who?\n",
    "- How?\n",
    "\n",
    "**b)** ethical or moral issues asnwered by following questiosn: \n",
    "\n",
    "- Should? \n",
    "- What ought to be done? \n",
    "- Must?"
   ]
  },
  {
   "cell_type": "markdown",
   "id": "6e2be9ed-1e50-4157-ae55-55ed701b37e5",
   "metadata": {},
   "source": [
    "**Descriptive issues** are those that raise questions about the accuracy of descriptions of the past, present, or future.\n",
    "\n",
    "**Prescriptive issues** are those that raise questions about what is right or wrong, desirable or undesirable, good or bad.\n",
    "\n",
    "**A conclusion** is a message that the writer or speaker wishes you to accept.\n",
    "\n",
    "This because of That. \n",
    "‘This’ refers to the conclusion. \n",
    "‘That’ refers to the support for the conclusion.\n",
    "\n",
    "This structure represents the process of **inference**.\n",
    "Conclusions are inferred. They are derived from reasoning."
   ]
  },
  {
   "cell_type": "markdown",
   "id": "65503aaf-36ce-4ef5-9723-4ce5893d6f45",
   "metadata": {},
   "source": [
    "### How to find the Conclusion (Cluse to Discovery): \n",
    "\n",
    "1. Ask what the issue is? a conclusion is always a response to the issue. \n",
    "\n",
    "2. Look for indicator words: \n",
    "    - consequently \n",
    "    - hence\n",
    "    - points\n",
    "    - thus\n",
    "    - it follows that \n",
    "    - shows that \n",
    "    - indicates that\n",
    "    - suggests that \n",
    "    - therefore\n",
    "    - to the conclusion that\n",
    "    - the point I'm trying to make is \n",
    "    - it is highly probable that \n",
    "    - proves that\n",
    "    - the truth of the matter is\n",
    "\n",
    "\n",
    "3. Look in likely locations: beginnig or end\n",
    "\n",
    "4. Remember what a conclusion is not: \n",
    "    - examples\n",
    "    - statistics\n",
    "    - definitions\n",
    "    - background information \n",
    "    - evidence\n",
    "\n",
    "5. Check the context and background of the author\n",
    "\n",
    "6. Ask the question ‘and therefore?’"
   ]
  },
  {
   "cell_type": "markdown",
   "id": "b87532fa-7aa7-4728-91ca-947a84d42193",
   "metadata": {},
   "source": [
    "**What Are The Reasons:**\n",
    "\n",
    "“Why do you say that?”\n",
    "you should raise this question wheter you agree or disagree."
   ]
  },
  {
   "cell_type": "markdown",
   "id": "6327cae0-7df2-407a-a40c-b683e628492b",
   "metadata": {},
   "source": [
    "**Reasons + Conclusion = Argument**"
   ]
  },
  {
   "cell_type": "markdown",
   "id": "bc38b7f1-94a5-445a-88ed-e1d7c1544972",
   "metadata": {},
   "source": [
    "To function as a reason a statement or group of statements must provide support for a conclision."
   ]
  },
  {
   "cell_type": "markdown",
   "id": "e85276cd-a832-4d07-b511-da9e4f05c91c",
   "metadata": {},
   "source": [
    "Questioning attiude: \n",
    "\n",
    "1. We will find the conclusion\n",
    "2. We will ask the appropriate why question"
   ]
  },
  {
   "cell_type": "markdown",
   "id": "7625747b-e571-44ed-ba00-3c1ad9285c7d",
   "metadata": {},
   "source": [
    "An argument consists of a conclusion and the reasons allegdely support the conclusion.\n",
    "\n",
    "The structure of reasoning is _this, because of that_\n",
    "\n",
    "**Words that identify reasons:** \n",
    "- as a result of \n",
    "- because of the fact that\n",
    "- is supported by \n",
    "- for the reason that \n",
    "- in view of \n",
    "- because the evidence is"
   ]
  },
  {
   "cell_type": "markdown",
   "id": "784f4f29-4e0e-4313-a176-d5973bf1d73f",
   "metadata": {},
   "source": [
    "**Kinds of Reasons:**\n",
    "_evidence\n",
    "\n",
    "These include \"the facts,\" research findings, examples from real life, statistics, appeals to experts and authorities, personal testimonials, metaphors, and analogies.\n",
    "\n",
    "When a speaker or writer is trying to support a descriptive conclusion, the answer to the why question will typically be evidence.\n",
    "\n",
    "In prescriptive arguments, reasons are typically either general, prescriptive statements or descriptive beliefs or principles.\n",
    "\n",
    "\n",
    "Reasons First, Then Conclusion\n",
    "\n",
    "Fresh Reasons"
   ]
  },
  {
   "cell_type": "markdown",
   "id": "1488796c-1505-46b7-a24d-e8687a2715cd",
   "metadata": {},
   "source": [
    "**What Words or Phrases Are Ambiguous?**\n",
    "\n",
    "Identifying the precise meaning of key words or phrases is an essential step in deciding whether to agree with someone's opinion.\n",
    "\n",
    "You cannot react to an argument unless you understand the meanings (explicit or implied) of crucial terms and phrases\n",
    "\n",
    "_**We often misunderstand what we read or hear because we presume that the meaning of words is obvious.**_\n",
    "\n",
    "When someone is trying to persuade us to believe or do something, that person has a responsibility to clarify any potential ambiguity before we consider the worth of the reasoning.\n",
    "\n",
    "Someone wants you to accept a conclusion. Therefore, you are looking for only those terms or phrases that will affect whether you accept the conclusion. So, look for them in the reasons and conclusion. **Terms and phrases that are not included in the basic reasoning structure can thus be \"dumped from your pan.\"**\n"
   ]
  },
  {
   "cell_type": "markdown",
   "id": "8b134786-d8ef-4e7b-9ffb-7c429ccf4000",
   "metadata": {},
   "source": [
    "The more abstract a word or phrase, the more likely it is to be susceptible to multiple interpretations.\n",
    "\n",
    "You can also locate potential important ambiguous phrases by reverse role-playing. Ask yourself, if you were to adopt a position contrary to the author's, would you choose to define certain terms or phrases differently?"
   ]
  },
  {
   "cell_type": "markdown",
   "id": "55fddd93-6a4e-478a-a3ce-ce881fa8e92e",
   "metadata": {},
   "source": [
    "![Clues for Identifying the Reasoning of a passage](./Clues-for-identifying-reasoning.jpeg)"
   ]
  },
  {
   "cell_type": "markdown",
   "id": "618ed528-14c1-4c00-a1eb-f4344658f533",
   "metadata": {},
   "source": [
    "![Clues for Locating Key Terms](./Clues-for-locating-key-terms.jpeg)"
   ]
  },
  {
   "cell_type": "markdown",
   "id": "fee91569-99a4-4874-bcdf-3dc0f8ae6e09",
   "metadata": {},
   "source": [
    "In checking for ambiguity there are some obstacles: \n",
    "\n",
    "1. assuming that you and the author mean the same thing. Thus, you need to begin your search by avoiding **\"mind reading\"**.\" You need to get into the habit of asking, \"What do you mean by that?\" instead of, \"I know just what you mean.\"\n",
    "\n",
    "2. assuming that terms have a single, obvious definition. Many terms do not. Thus, always ask, \"Could any of the words or phrases have a different meaning?\"\n",
    "\n",
    "If you can express two or more alternative meanings for a term, each of which makes sense in the context of the argument, and if the extent to which a reason would support a conclusion is affected by which meaning is assumed, then you have located a significant ambiguity."
   ]
  },
  {
   "cell_type": "markdown",
   "id": "cea6e2ef-e209-4448-8015-e2eace158105",
   "metadata": {},
   "source": [
    "**A good test for determining whether you have identified an important ambiguity is to substitute the alternative meanings into the reasoning structure and see whether changing the meaning makes a difference in how well a reason supports the conclusion.**\n",
    "\n",
    "The ambiguity is significant because it affects the degree to which you might be persuaded.\n",
    "\n",
    "Advertising is often full of ambiguity. Advertisers intentionally engage in ambiguity to persuade you that their products are superior to those of their competitors.\n",
    "\n",
    "The advertiser hoped that you would assign the most attractive meaning to the ambiguous words.\n",
    "\n",
    "Try to create a mental picture of what these phrases represent. If you can't, the phrases are ambiguous.\n",
    "\n",
    "If different images would cause you to react to the reasons differently, you have identified an important ambiguity.\n",
    "\n",
    "By context, we mean the writer's or speaker's background, traditional uses of the term within the particular controversy, and the words and statements preceding and following the possible ambiguity.\n",
    "\n",
    "\n",
    "Meanings usually come in one of three forms: **synonyms**, **examples**, and what we will call **\"definition by specific criteria.\"**\n",
    "\n"
   ]
  },
  {
   "cell_type": "markdown",
   "id": "5726c981-dfdd-4aab-bb1a-c11a3d5fd03f",
   "metadata": {},
   "source": [
    "For critical evaluation of most controversial issues, synonyms and examples are inadequate.\n",
    "They fail to tell you the specific properties that are crucial for an unambiguous understanding of the term."
   ]
  },
  {
   "cell_type": "markdown",
   "id": "4060b126-db90-4dbe-9e3a-ea0c0895c729",
   "metadata": {},
   "source": [
    "Useful definitions are those that specify criteria for usage.\n",
    "\n",
    "Thus, in many arguments you will not be able to find adequate dictionary definitions, and the context may not make the meaning clear. One way to discover possible alternative meanings is to try to create a mental picture of what the words represent."
   ]
  },
  {
   "cell_type": "markdown",
   "id": "6d46262c-2c51-41d7-84b4-277cbfdd35d4",
   "metadata": {},
   "source": [
    "We suggest you ignore any reason containing ambiguity that makes it impossible to judge the acceptability of the reason. It is your responsibility as an active learner to ask questions that clarify ambiguity.\n",
    "\n",
    "However, your responsibility stops at that point. It is the writer or speaker who is trying to convince you of something. Her role as a persuader requires her to respond to your concerns about possible ambiguity.\n",
    "\n",
    "**You are not required to react to unclear ideas or options.**\n",
    "\n",
    "No one has the right to be believed if he cannot provide you with a clear picture of his reasoning.\n",
    "\n",
    "Remember that your audience will probably not struggle for a long time with your meaning. **If you confuse a member of your audience, you will probably lose him quickly.**\n",
    "\n",
    "You can find important clues to potential ambiguity in the statement of the issue and can locate key words and phrases in the reasons and conclusions.\n",
    "\n",
    "\n",
    "Because many authors fail to define their terms and because many key terms have multiple meanings, you must search for possible ambiguity. \n",
    "\n",
    "You do this by asking the questions, \"What could be meant?\" and \"What is meant by the key terms?\n",
    "\n",
    "\n",
    "Once you have completed the search, you will know four very important components of the reasoning:\n",
    "\n",
    "1. the key terms and phrases;\n",
    "\n",
    "2. which of these are adequately defined;\n",
    "\n",
    "3. which of these possess other possible definitions, which if substituted, would modify your reaction to the reasoning; and\n",
    "\n",
    "4. which of these are ambiguous within the context of the argument.\n",
    "\n",
    "Once you have identified an author's argument, you need to identify key words or phrases within that reasoning that might have alternative meanings. More importantly, you need to determine whether the author explicitly uses one of those definitions. If she does not, and if one of those meanings alters your acceptance of the conclusion, you have identified an important ambiguity. Identifying ambiguous words and phrases is the next important step in determining whether you will accept or reject the conclusion."
   ]
  },
  {
   "cell_type": "markdown",
   "id": "9435bd01-92b3-4a83-83e8-8f78b9dec974",
   "metadata": {},
   "source": [
    "**What are the value conflicts and assumptions?**\n",
    "\n",
    "\n",
    "An assumption is an unstated belief that supports the explicit reasoning.\n",
    "\n",
    "Assumptions are:\n",
    "1. hidden or unstated (in most cases); \n",
    "2. taken for granted;\n",
    "3. influential in determining the conclusion; and\n",
    "4. potentially deceptive."
   ]
  },
  {
   "cell_type": "markdown",
   "id": "5992cfcc-af4f-4060-a807-d8274a60d569",
   "metadata": {},
   "source": [
    "Kinds of assumption: \n",
    "\n",
    "1. Value assumption: are extremely influential in prespective arguments\n",
    "\n",
    "**Critical thinking necessarily involves other people who are concerned about the same issues as you. When you identify assumptions and make them explicit in your interactions with others, you make a tremendous contribution to the quality of the reasoning in our community as well.**"
   ]
  },
  {
   "cell_type": "markdown",
   "id": "d57cd3ea-a43b-48d5-a286-2b759338c4b0",
   "metadata": {},
   "source": [
    "The visible structure of an argument consists of reasons and conclusions.\n",
    "\n",
    "Thus, you are interested only in assumptions that affect the quality of this structure. You can restrict your search for assumptions, therefore, to the structure you have already learned how to identify.\n",
    "\n",
    "In particular, **there are two places to look for assumptions. Look for assumptions needed for the reason (s) to support the conclusions (linkage assumptions) and look for ones necessary for a reason to be true.**"
   ]
  },
  {
   "cell_type": "markdown",
   "id": "d13fa0ba-d294-4a04-87ec-ba4c365629e0",
   "metadata": {},
   "source": [
    "**Look for value assumptions in the movement from reasons to conclusion!**"
   ]
  },
  {
   "cell_type": "markdown",
   "id": "460f6b4f-1e93-4673-bf75-97e5ad80de38",
   "metadata": {},
   "source": [
    "Note that the reasons and conclusion are also the place where we search for significant ambiguity.\n",
    "\n",
    "For ethical or prescriptive arguments, an individual's values influence the reasons he provides and, consequently, his conclusion. In fact, the reasons will logically support the conclusion only if the value assumption is added to the reasoning.\n",
    "\n",
    "By value assumption, we mean a taken-for-granted belief about the relative desirability of certain competing value.\n",
    "\n",
    "When authors take a position on a social controversy, they typically prefer one value over another value- they have value priorities or preferences.\n",
    "\n",
    "Values are ideas that someone thinks is worthwhile.\n",
    "\n",
    "They provides standard of conduct by which we measure the quality of human behavior.\n",
    "\n",
    "It is the importance one assigns to abstract ideas that has the major influence on one’s choices and behavior.\n",
    "\n",
    "Values are standards of conduct that we endorse and expect people to meet."
   ]
  },
  {
   "cell_type": "markdown",
   "id": "9327e11b-7669-4790-9fff-1f784b43f350",
   "metadata": {},
   "source": [
    "![Common Values](./Common-values.jpeg)"
   ]
  },
  {
   "cell_type": "markdown",
   "id": "d589b0f2-776a-4d1d-975c-1d78e2feb9d7",
   "metadata": {},
   "source": [
    "by definition, most values will be on everyone's list. Because many values are shared, values by themselves are not a powerful guide to understanding. **What leads you to answer a prescriptive question differently from someone else is the relative intensity with which you hold specific values.**\n",
    "\n",
    "A writer's preference for particular values is often unstated, but that value preference, nevertheless, will have a major impact on her conclusion and on how she chooses to defend it. **These unstated assertions about value priorities function as value assumptions.**"
   ]
  },
  {
   "cell_type": "markdown",
   "id": "040c01ce-67da-4949-9ae8-0fecc1e3646c",
   "metadata": {},
   "source": [
    "Some refer to these assumptions as _valuejudgments_."
   ]
  },
  {
   "cell_type": "markdown",
   "id": "fd085907-48ed-4b0f-8d90-11e3783450a9",
   "metadata": {},
   "source": [
    "When a writer takes a stand on controversial prescriptive issues, she is usually depreciating one commonly shared value while upholding another.\n",
    "\n",
    "So when you look for value assumptions, look for an indication of value priorities.\n",
    "\n",
    "When you have found a person's value preference in a particular argument, you should not expect that same person to necessarily have the same value priority when discussing a different controversy. **A person does not have the same value priorities without regard to the issue being discussed.**\n",
    "\n",
    "We hold our value preferences only up to a point.\n",
    "\n",
    "value assumptions are very contextual; they apply in one setting, but we may make quite a different value priority when the specifics of the prescriptive issue change.\n",
    "\n",
    "While we can say that particular people tend to make particular value assumptions, we never can be certain about that presumption."
   ]
  },
  {
   "cell_type": "markdown",
   "id": "0eb5ff53-51b2-4a6c-bcfd-56af8b427f37",
   "metadata": {},
   "source": [
    "![Typical Value Conflicts and Sample Controversies](./Typical-Value-Conflict.jpeg)"
   ]
  },
  {
   "cell_type": "markdown",
   "id": "4f80bd38-686f-4576-8d28-fabbb7c82eff",
   "metadata": {},
   "source": [
    "### Some other Conflicts\n",
    "\n",
    "- honesty-harmony\n",
    "- comfort -courage \n",
    "\n",
    "By identifying as many of the relevant value assumptions as possible, you have a better chance of not missing any of the important dimensions of the argument. However, you may have no way of knowing which value assumptions most influence the author's reasoning."
   ]
  },
  {
   "cell_type": "markdown",
   "id": "a08e2916-104f-4877-8279-6e7f85722fb8",
   "metadata": {},
   "source": [
    "An important means of determining an individual's value assumptions is to examine the reasons given in support of a conclusion and then to determine what value priorities would lead to these reasons being judged as more desirable than reasons that might have been offered on the other side of the issue.\n",
    "\n",
    "Note that the magnitude of a consequence may have a major impact on value preferences.\n",
    "\n",
    "It is possible for people to have different conclusions, while having identical value assumptions, because they disagree about the likelihood or magnitude of consequences.\n",
    "\n",
    "One important means of determining value assumptions, then, is to ask the question, \"Why do the particular consequences or outcomes presented as reasons seem so desirable to the writer or speaker?\"\n",
    "\n",
    "Remember: When you identify value assumptions, you should always try to state value priorities."
   ]
  },
  {
   "cell_type": "markdown",
   "id": "284715c9-81af-454b-83a8-81322f6a9e2b",
   "metadata": {},
   "source": [
    "With controversial topics, stating value assumptions in this way will be a continual reminder both of what the writer is giving up and of what she is gaining.\n",
    "\n",
    "Try to resist the temptation to stop your analysis prematurely by just identifying the values of the speaker or writer.\n",
    "\n",
    "Another useful technique for generating value conflicts is to reverse role-play. Ask the question, \"What do those people who would take a different position from the writer's care about?\"\n",
    "\n",
    "Remember, when someone takes a position on a controversial topic, she will be revealing a value priority — a preference for one value over another.\n",
    "\n",
    "Finally, you can always check to see whether the disagreement results from a value conflict concerning the rights of an individual to behave in a particular fashion and the welfare of the group affected by the behavior in question."
   ]
  },
  {
   "cell_type": "markdown",
   "id": "b5045fd0-e774-4398-b51a-ebd37ee92712",
   "metadata": {},
   "source": [
    "![Clues for Identifying Value Assumptions](./Clues-for-Value-Assumptions.jpeg)"
   ]
  },
  {
   "cell_type": "markdown",
   "id": "84e515a6-dac2-4db8-8a6e-3d69bb41a5d1",
   "metadata": {},
   "source": [
    "So push yourself all the way to finding value assumptions. Don't stop your search at levels of analysis that are less revealing.\n",
    "\n",
    "Remember that complete reasoning with respect to prescriptive issues requires reasons and value assumptions."
   ]
  },
  {
   "cell_type": "markdown",
   "id": "60e18016-0a89-43fe-adc4-b2986d783720",
   "metadata": {},
   "source": [
    "![Reasons + Value Assumptions = Conclusion](./Reasons+value-assumption.jpeg)"
   ]
  },
  {
   "cell_type": "markdown",
   "id": "ccb9cc04-24db-42e7-8037-4a3f59fd8aee",
   "metadata": {},
   "source": [
    "However, the choice of value preferences requires reasoning. That reasoning, like any other, can be informed, thoughtful, and caring. But it can also be sloppy and self-absorbed. Hence, value preferences require some justification that critical thinkers can consider. A value preference requires supporting reasons just as does any other conclusion. Then each of us can study the reasoning to form our own reaction."
   ]
  },
  {
   "cell_type": "markdown",
   "id": "855c8b3c-e8af-4371-aafc-448b88621dd1",
   "metadata": {},
   "source": [
    "#### Summary\n",
    "\n",
    "Assumptions are unstated ideas, taken for granted in the reasoning.\n",
    "\n",
    "Within the context of social controversies, they consist of a preference for one value over another in a particular context. \n",
    "\n",
    "The author's background, reaction to projected consequences of acting on a particular value assumption, analogous controversies, and reverse role-playing all provide possible clues for finding a person's value assumptions in a particular controversy."
   ]
  },
  {
   "cell_type": "markdown",
   "id": "63a401dd-157d-4c44-a389-5180333d304d",
   "metadata": {},
   "source": [
    "#### What Are the Value Conflicts and Assumptions?\n",
    "\n",
    "While an author usually offers explicit reasons why she comes to a certain conclusion, she also makes certain assumptions that lead her to a certain conclusion. By identifying value conflicts, you determine whether the author's value preferences match your value preferences. Consequently, you have a tool for determining whether you will accept or reject an author's conclusion."
   ]
  },
  {
   "cell_type": "markdown",
   "id": "5dd1414b-0340-4a18-8323-946152f5ec20",
   "metadata": {},
   "source": [
    "**What are the descriptive assumptions?**\n",
    "\n",
    "_Descriptive assumptions_ are beliefs about the way the world is; _prescriptive or value assumptions_, are beliefs about how the world should be."
   ]
  },
  {
   "cell_type": "markdown",
   "id": "f06430da-cdfd-491c-91a6-b4bd7ad92605",
   "metadata": {},
   "source": [
    "‌**By _itself_, a reason just does not have the strength to support a conclusion; the reason must be connected to the conclusion by certain other (frequently unstated) ideas.**\n",
    "\n",
    "Whether a reason supports, or is relevant to, a conclusion depends on whether we can locate unstated ideas that logically connect the reason to the conclusion.\n",
    "\n",
    "When such unstated ideas are descriptive, we call them **descriptive assumptions**.\n",
    "\n",
    "In a definitional assumption we have taken for granted one meaning of a term that could have more than one meaning.\n",
    "\n",
    "Once you have identified the connecting assumptions, you have answered the question, \"On what basis can that conclusion be drawn from that reason?\" The next natural step is to ask, \"Is there any basis for accepting the assumptions?\" If not, then, for you, the reason fails to provide support for the conclusion. If so, then the reason provides logical support for the conclusion. Thus, you can say reasoning is sound when you have identified connecting assumptions and you have good reason to believe those assumptions."
   ]
  },
  {
   "cell_type": "markdown",
   "id": "04a482aa-5f9b-44fb-a3a4-6c6871b02b07",
   "metadata": {},
   "source": [
    "Attention: A descriptive assumption is an unstated belief about how the world was, is, or will become."
   ]
  },
  {
   "cell_type": "markdown",
   "id": "a44b63c6-ae51-4b7a-8ba7-f0b1c230a70a",
   "metadata": {},
   "source": [
    "Because writers and speakers frequently are not aware of their own assumptions, their conscious beliefs may be quite different from the ideas you identify as implicit assumptions.\n",
    "\n",
    "you are quite willing to believe what you are being told, but as a critical thinker you are in the business of personal development."
   ]
  },
  {
   "cell_type": "markdown",
   "id": "e4213e21-1e7d-4649-80c6-523e50e962bd",
   "metadata": {},
   "source": [
    "#### Clues for Locating Assumptions\n",
    "\n",
    "Your task in finding assumptions is to reconstruct the reasoning by filling in the missing links.\n",
    "\n",
    "Two types of assumptions: \n",
    "1. Value assumptions\n",
    "2. Descriptive assumptions\n",
    "\n",
    "Clues for Locating Assumptions\n",
    "\n",
    "**Keep thinking about the gap between the conclusion and reasons.** \n",
    "Keep asking, _\"How do you get from the reason to the conclusion?\"_ Ask,_\"If the reason is true,what else must be true for the conclusion to follow?_\n",
    "And, to help answer that question, you will find it very helpful to ask, _\"Supposing the reason(s) were true, is there any way in which the conclusion nevertheless could be false. '_\n",
    "\n",
    "**Look for ideas that support reasons.**\n",
    "\n",
    "**Identify with the writer or speaker.** \n",
    "Locating someone's assumptions is often made easier by imagining that you were asked to defend the conclusion.\n",
    "Discover his background.\n",
    "\n",
    "**Identify with the opposition.**\n",
    "try to reverse roles. Ask yourself why anyone might disagree with the conclusion. What type of reasoning would prompt someone to disagree with the conclusion you are evaluating?\n",
    "\n",
    "**Recognize the potential existence of other means of attaining the advantages referred to in the reasons.**\n",
    "\n",
    "Frequently, a conclusion is supported by reasons that indicate the various advantages of acting on the author's conclusion. When there are many ways to reach the same advantages, one important assumption linking the reasons to the conclusion is that the best way to attain the advantages is through the one advocated by the communicator.\n",
    "\n",
    "**Avoid stating incompletely established reasons as assumptions.**\n",
    "\n",
    "**Avoiding Analysis of Trivial Assumptions\n",
    "\n",
    "By trivial, we mean an assumption that is self-evident.\n",
    "You as a reader or listener can assume that the communicator believes his reasons are true. You may want to attack the reasons as insufficient, but it is trivial to point out the writer's or speaker's assumption that the reasons are true.\n",
    "\n",
    "Another type of trivial assumption concerns the reasoning structure. You may be tempted to state that the writer believes that the reason and conclusion are logically related. Right—but trivial.\n",
    "\n",
    "**What is important is how they are logically related.**\n",
    "\n",
    "Avoid spending time on analyzing trivial assumptions. Your search for assumptions will be most rewarding when you locate hidden, debatable missing links."
   ]
  },
  {
   "cell_type": "markdown",
   "id": "62ad6a05-96a9-4cde-9500-28fe057a7adf",
   "metadata": {},
   "source": [
    "#### Summary\n",
    "\n",
    "Assumptions are ideas that, if true, enable us to claim that particular reasons provide support for a conclusion."
   ]
  },
  {
   "cell_type": "markdown",
   "id": "6dbbba82-be74-4d7f-8e98-c42047cb87a5",
   "metadata": {},
   "source": [
    "![Clues for Discovering Descriptive Assumptions](./Clues-for-DiscoveringDescriptiveAssumptions.jpeg)"
   ]
  },
  {
   "cell_type": "markdown",
   "id": "ee040749-04cd-464c-ad9d-4eb5c3a46b33",
   "metadata": {},
   "source": [
    "#### Exercise: \n",
    "\n",
    "1. Is there any gap between the reasons and conclusion? \n",
    "2. ask yourself, \"Is there any basis for believing that the reason(s) might not be true?\"\n",
    "3. Then ask, \"Supposing the reason(s) were true, is there any way in which the conclusion nevertheless could be false?\" \n",
    "4. Try to play the role of a person who does not believe a planner should be a requirement.\n",
    "\n",
    "**Asking Critical Questions**\n",
    "![Asking Critical Questions](./Asking-Critical-Questions.jpeg)"
   ]
  },
  {
   "cell_type": "markdown",
   "id": "310deebd-d7ec-4efb-ae32-5dac0fa6db0b",
   "metadata": {},
   "source": [
    "Your major question now is, _\"How acceptable is the conclusion in light of the reasons provided?\"_\n",
    "\n",
    "**Remember**: The objective of critical reading and listening is to judge the acceptability or worth of conclusions.\n",
    "\n",
    "Three common reasoning tricks or _**fallacies**_:\n",
    "\n",
    "\n",
    "1. providing reasoning that requires erroneous or incorrect assumptions;\n",
    "\n",
    "2. distracting us by making information seem relevant to the conclusion when it is not; and\n",
    "\n",
    "3. providing support for the conclusion that depends on the conclusion's already being true."
   ]
  },
  {
   "cell_type": "markdown",
   "id": "01a4fec6-1292-446c-a647-22d9e7c214b5",
   "metadata": {},
   "source": [
    "**Attention**: A fallacy is a reasoning \"trick\" that an author might use while trying to persuade you to accept a conclusion.\n",
    "\n",
    "**you don't need to be aware of all the fallacies and their names to be able to locate them.**"
   ]
  },
  {
   "cell_type": "markdown",
   "id": "bd70fd36-caea-4359-88d2-f177df127025",
   "metadata": {},
   "source": [
    "##### Ad Hominem fallacy\n",
    "\n",
    "Making irrelevant attacks against a person making a claim, the most common of which is attacking his character or shifting attention to his circumstances or interests.\n",
    "\n",
    "**F: Ad hominem**: An attack, or an insult, on the person, rather than directly addressing the person's reasons.\n",
    "\n",
    "**The more questionable the assumption, the less relevant the reasoning.**"
   ]
  },
  {
   "cell_type": "markdown",
   "id": "77728f81-5658-4790-bf83-9f111371415e",
   "metadata": {},
   "source": [
    "##### Thinking steps in locating fallacies:\n",
    "\n",
    "1. Identify the conclusions and reasons.\n",
    "\n",
    "2. Always keep the conclusion in mind and consider reasons that you think might be relevant to it; contrast these reasons with the author's reasons.\n",
    "\n",
    "3. If the conclusion supports an action, determine whether the reason states a specific and/or concrete advantage or a disadvantage; if not, be wary!\n",
    "\n",
    "4. Identify any necessary assumption by asking yourself, \"If the reason were true, what would one have to believe for it to logically support the conclusion, and what does one have to believe for the reason to be true?\"\n",
    "\n",
    "5. Ask yourself, \"Do these assumptions make sense?\" If an obviously false assumption is being made, you have found a fallacy in reasoning, and that reasoning can then be rejected.\n",
    "\n",
    "6. Check the possibility of being distracted from relevant reasons by phrases that strongly appeal to your emotions."
   ]
  },
  {
   "cell_type": "markdown",
   "id": "4537e799-4555-4554-83d2-b7f85c9f89d1",
   "metadata": {},
   "source": [
    "**F: Slippery Slope**: Making the assumption that a proposed step will set off an uncon- trollable chain of undesirable events, when procedures exist to prevent such a chain\n",
    "of events.\n",
    "\n",
    "مغلطه شیب لغزنده"
   ]
  },
  {
   "cell_type": "code",
   "execution_count": null,
   "id": "457002f3-0fab-4d26-89f2-4a5bd093f8af",
   "metadata": {},
   "outputs": [],
   "source": []
  }
 ],
 "metadata": {
  "kernelspec": {
   "display_name": "Python 3 (ipykernel)",
   "language": "python",
   "name": "python3"
  },
  "language_info": {
   "codemirror_mode": {
    "name": "ipython",
    "version": 3
   },
   "file_extension": ".py",
   "mimetype": "text/x-python",
   "name": "python",
   "nbconvert_exporter": "python",
   "pygments_lexer": "ipython3",
   "version": "3.10.9"
  }
 },
 "nbformat": 4,
 "nbformat_minor": 5
}
