{
 "cells": [
  {
   "cell_type": "markdown",
   "id": "75e54985-fce4-475b-b277-ebb87b211a3f",
   "metadata": {
    "tags": []
   },
   "source": [
    "#                Asking The Right Questions\n",
    "### A Guide to Critical Thinking \n",
    "##### M. Neil Browne * Stuart M. Keely\n",
    "\n",
    "![Book Cover](./Images/Book-Cover.jpeg)"
   ]
  },
  {
   "cell_type": "markdown",
   "id": "6fd94bea-5075-4a6a-9e3f-caa4ad32fc87",
   "metadata": {},
   "source": [
    "Critical thinking refers to the following:\n",
    "1. awareness of a set of interrelated critical questions;\n",
    "2. ability to ask and answer critical questions at appropriate times; and the\n",
    "3. desire to actively use the critical questions."
   ]
  },
  {
   "cell_type": "markdown",
   "id": "25290955-48cd-4339-83c1-cd00772ea97d",
   "metadata": {},
   "source": [
    "Questions require the person being asked the question to act in response."
   ]
  },
  {
   "cell_type": "markdown",
   "id": "3ef4d801-1474-4933-8619-d1bd4e32b8a2",
   "metadata": {},
   "source": [
    "**By our questions, we are saying to the person: I am curious; I want to know more; help me. This request shows respect for the other person.**\n"
   ]
  },
  {
   "cell_type": "markdown",
   "id": "870d25ba-bed0-4010-b73d-7a806bfc7b60",
   "metadata": {},
   "source": [
    "**The Right Questions:**\n",
    "1. What are the issues and the conclusions?\n",
    "2. What are the reasons? \n",
    "3. Which words or phrases are ambiguous? \n",
    "4. What are the value conflicts and assumptions? \n",
    "5. What are the descriptive assuptions?\n",
    "6. Are there any fallacies in the reasoning?\n",
    "7. How good is the evidence? \n",
    "8. Are there rival causes?\n",
    "9. Are the statistics deceptive?\n",
    "10. What significant information is omitted? \n",
    "11. What reasonable conclusions are possible?"
   ]
  },
  {
   "cell_type": "markdown",
   "id": "b1f65b59-e55a-4dec-9c6e-dbbdea89378c",
   "metadata": {},
   "source": [
    "**About The first Question**"
   ]
  },
  {
   "cell_type": "markdown",
   "id": "dac56dc3-20ba-47a9-a3a5-01311ce47e0b",
   "metadata": {},
   "source": [
    "There are two types of issues: \n",
    "\n",
    "**a)** descriptive issues answered by the following questiosn: \n",
    "\n",
    "- Do? \n",
    "- What?\n",
    "- Who?\n",
    "- How?\n",
    "\n",
    "**b)** ethical or moral issues asnwered by following questiosn: \n",
    "\n",
    "- Should? \n",
    "- What ought to be done? \n",
    "- Must?"
   ]
  },
  {
   "cell_type": "markdown",
   "id": "6e2be9ed-1e50-4157-ae55-55ed701b37e5",
   "metadata": {},
   "source": [
    "**Descriptive issues** are those that raise questions about the accuracy of descriptions of the past, present, or future.\n",
    "\n",
    "**Prescriptive issues** are those that raise questions about what is right or wrong, desirable or undesirable, good or bad.\n",
    "\n",
    "**A conclusion** is a message that the writer or speaker wishes you to accept.\n",
    "\n",
    "This because of That. \n",
    "‘This’ refers to the conclusion. \n",
    "‘That’ refers to the support for the conclusion.\n",
    "\n",
    "This structure represents the process of **inference**.\n",
    "Conclusions are inferred. They are derived from reasoning."
   ]
  },
  {
   "cell_type": "markdown",
   "id": "65503aaf-36ce-4ef5-9723-4ce5893d6f45",
   "metadata": {},
   "source": [
    "### How to find the Conclusion (Cluse to Discovery): \n",
    "\n",
    "1. Ask what the issue is? a conclusion is always a response to the issue. \n",
    "\n",
    "2. Look for indicator words: \n",
    "    - consequently \n",
    "    - hence\n",
    "    - points\n",
    "    - thus\n",
    "    - it follows that \n",
    "    - shows that \n",
    "    - indicates that\n",
    "    - suggests that \n",
    "    - therefore\n",
    "    - to the conclusion that\n",
    "    - the point I'm trying to make is \n",
    "    - it is highly probable that \n",
    "    - proves that\n",
    "    - the truth of the matter is\n",
    "\n",
    "\n",
    "3. Look in likely locations: beginnig or end\n",
    "\n",
    "4. Remember what a conclusion is not: \n",
    "    - examples\n",
    "    - statistics\n",
    "    - definitions\n",
    "    - background information \n",
    "    - evidence\n",
    "\n",
    "5. Check the context and background of the author\n",
    "\n",
    "6. Ask the question ‘and therefore?’"
   ]
  },
  {
   "cell_type": "markdown",
   "id": "b87532fa-7aa7-4728-91ca-947a84d42193",
   "metadata": {},
   "source": [
    "**What Are The Reasons:**\n",
    "\n",
    "“Why do you say that?”\n",
    "you should raise this question wheter you agree or disagree."
   ]
  },
  {
   "cell_type": "markdown",
   "id": "6327cae0-7df2-407a-a40c-b683e628492b",
   "metadata": {},
   "source": [
    "**Reasons + Conclusion = Argument**"
   ]
  },
  {
   "cell_type": "markdown",
   "id": "bc38b7f1-94a5-445a-88ed-e1d7c1544972",
   "metadata": {},
   "source": [
    "To function as a reason a statement or group of statements must provide support for a conclision."
   ]
  },
  {
   "cell_type": "markdown",
   "id": "e85276cd-a832-4d07-b511-da9e4f05c91c",
   "metadata": {},
   "source": [
    "Questioning attiude: \n",
    "\n",
    "1. We will find the conclusion\n",
    "2. We will ask the appropriate why question"
   ]
  },
  {
   "cell_type": "markdown",
   "id": "7625747b-e571-44ed-ba00-3c1ad9285c7d",
   "metadata": {},
   "source": [
    "An argument consists of a conclusion and the reasons allegdely support the conclusion.\n",
    "\n",
    "The structure of reasoning is _this, because of that_\n",
    "\n",
    "**Words that identify reasons:** \n",
    "- as a result of \n",
    "- because of the fact that\n",
    "- is supported by \n",
    "- for the reason that \n",
    "- in view of \n",
    "- because the evidence is"
   ]
  },
  {
   "cell_type": "markdown",
   "id": "784f4f29-4e0e-4313-a176-d5973bf1d73f",
   "metadata": {},
   "source": [
    "**Kinds of Reasons:**\n",
    "_evidence\n",
    "\n",
    "These include \"the facts,\" research findings, examples from real life, statistics, appeals to experts and authorities, personal testimonials, metaphors, and analogies.\n",
    "\n",
    "When a speaker or writer is trying to support a descriptive conclusion, the answer to the why question will typically be evidence.\n",
    "\n",
    "In prescriptive arguments, reasons are typically either general, prescriptive statements or descriptive beliefs or principles.\n",
    "\n",
    "\n",
    "Reasons First, Then Conclusion\n",
    "\n",
    "Fresh Reasons"
   ]
  },
  {
   "cell_type": "markdown",
   "id": "1488796c-1505-46b7-a24d-e8687a2715cd",
   "metadata": {},
   "source": [
    "**What Words or Phrases Are Ambiguous?**\n",
    "\n",
    "Identifying the precise meaning of key words or phrases is an essential step in deciding whether to agree with someone's opinion.\n",
    "\n",
    "You cannot react to an argument unless you understand the meanings (explicit or implied) of crucial terms and phrases\n",
    "\n",
    "_**We often misunderstand what we read or hear because we presume that the meaning of words is obvious.**_\n",
    "\n",
    "When someone is trying to persuade us to believe or do something, that person has a responsibility to clarify any potential ambiguity before we consider the worth of the reasoning.\n",
    "\n",
    "Someone wants you to accept a conclusion. Therefore, you are looking for only those terms or phrases that will affect whether you accept the conclusion. So, look for them in the reasons and conclusion. **Terms and phrases that are not included in the basic reasoning structure can thus be \"dumped from your pan.\"**\n"
   ]
  },
  {
   "cell_type": "markdown",
   "id": "8b134786-d8ef-4e7b-9ffb-7c429ccf4000",
   "metadata": {},
   "source": [
    "The more abstract a word or phrase, the more likely it is to be susceptible to multiple interpretations.\n",
    "\n",
    "You can also locate potential important ambiguous phrases by reverse role-playing. Ask yourself, if you were to adopt a position contrary to the author's, would you choose to define certain terms or phrases differently?"
   ]
  },
  {
   "cell_type": "markdown",
   "id": "55fddd93-6a4e-478a-a3ce-ce881fa8e92e",
   "metadata": {},
   "source": [
    "![Clues for Identifying the Reasoning of a passage](./Images/Clues-for-identifying-reasoning.jpeg)"
   ]
  },
  {
   "cell_type": "markdown",
   "id": "618ed528-14c1-4c00-a1eb-f4344658f533",
   "metadata": {},
   "source": [
    "![Clues for Locating Key Terms](./Images/Clues-for-locating-key-terms.jpeg)"
   ]
  },
  {
   "cell_type": "markdown",
   "id": "fee91569-99a4-4874-bcdf-3dc0f8ae6e09",
   "metadata": {},
   "source": [
    "In checking for ambiguity there are some obstacles: \n",
    "\n",
    "1. assuming that you and the author mean the same thing. Thus, you need to begin your search by avoiding **\"mind reading\"**.\" You need to get into the habit of asking, \"What do you mean by that?\" instead of, \"I know just what you mean.\"\n",
    "\n",
    "2. assuming that terms have a single, obvious definition. Many terms do not. Thus, always ask, \"Could any of the words or phrases have a different meaning?\"\n",
    "\n",
    "If you can express two or more alternative meanings for a term, each of which makes sense in the context of the argument, and if the extent to which a reason would support a conclusion is affected by which meaning is assumed, then you have located a significant ambiguity."
   ]
  },
  {
   "cell_type": "markdown",
   "id": "cea6e2ef-e209-4448-8015-e2eace158105",
   "metadata": {},
   "source": [
    "**A good test for determining whether you have identified an important ambiguity is to substitute the alternative meanings into the reasoning structure and see whether changing the meaning makes a difference in how well a reason supports the conclusion.**\n",
    "\n",
    "The ambiguity is significant because it affects the degree to which you might be persuaded.\n",
    "\n",
    "Advertising is often full of ambiguity. Advertisers intentionally engage in ambiguity to persuade you that their products are superior to those of their competitors.\n",
    "\n",
    "The advertiser hoped that you would assign the most attractive meaning to the ambiguous words.\n",
    "\n",
    "Try to create a mental picture of what these phrases represent. If you can't, the phrases are ambiguous.\n",
    "\n",
    "If different images would cause you to react to the reasons differently, you have identified an important ambiguity.\n",
    "\n",
    "By context, we mean the writer's or speaker's background, traditional uses of the term within the particular controversy, and the words and statements preceding and following the possible ambiguity.\n",
    "\n",
    "\n",
    "Meanings usually come in one of three forms: **synonyms**, **examples**, and what we will call **\"definition by specific criteria.\"**\n",
    "\n"
   ]
  },
  {
   "cell_type": "markdown",
   "id": "5726c981-dfdd-4aab-bb1a-c11a3d5fd03f",
   "metadata": {},
   "source": [
    "For critical evaluation of most controversial issues, synonyms and examples are inadequate.\n",
    "They fail to tell you the specific properties that are crucial for an unambiguous understanding of the term."
   ]
  },
  {
   "cell_type": "markdown",
   "id": "4060b126-db90-4dbe-9e3a-ea0c0895c729",
   "metadata": {},
   "source": [
    "Useful definitions are those that specify criteria for usage.\n",
    "\n",
    "Thus, in many arguments you will not be able to find adequate dictionary definitions, and the context may not make the meaning clear. One way to discover possible alternative meanings is to try to create a mental picture of what the words represent."
   ]
  },
  {
   "cell_type": "markdown",
   "id": "6d46262c-2c51-41d7-84b4-277cbfdd35d4",
   "metadata": {},
   "source": [
    "We suggest you ignore any reason containing ambiguity that makes it impossible to judge the acceptability of the reason. It is your responsibility as an active learner to ask questions that clarify ambiguity.\n",
    "\n",
    "However, your responsibility stops at that point. It is the writer or speaker who is trying to convince you of something. Her role as a persuader requires her to respond to your concerns about possible ambiguity.\n",
    "\n",
    "**You are not required to react to unclear ideas or options.**\n",
    "\n",
    "No one has the right to be believed if he cannot provide you with a clear picture of his reasoning.\n",
    "\n",
    "Remember that your audience will probably not struggle for a long time with your meaning. **If you confuse a member of your audience, you will probably lose him quickly.**\n",
    "\n",
    "You can find important clues to potential ambiguity in the statement of the issue and can locate key words and phrases in the reasons and conclusions.\n",
    "\n",
    "\n",
    "Because many authors fail to define their terms and because many key terms have multiple meanings, you must search for possible ambiguity. \n",
    "\n",
    "You do this by asking the questions, \"What could be meant?\" and \"What is meant by the key terms?\n",
    "\n",
    "\n",
    "Once you have completed the search, you will know four very important components of the reasoning:\n",
    "\n",
    "1. the key terms and phrases;\n",
    "\n",
    "2. which of these are adequately defined;\n",
    "\n",
    "3. which of these possess other possible definitions, which if substituted, would modify your reaction to the reasoning; and\n",
    "\n",
    "4. which of these are ambiguous within the context of the argument.\n",
    "\n",
    "Once you have identified an author's argument, you need to identify key words or phrases within that reasoning that might have alternative meanings. More importantly, you need to determine whether the author explicitly uses one of those definitions. If she does not, and if one of those meanings alters your acceptance of the conclusion, you have identified an important ambiguity. Identifying ambiguous words and phrases is the next important step in determining whether you will accept or reject the conclusion."
   ]
  },
  {
   "cell_type": "markdown",
   "id": "9435bd01-92b3-4a83-83e8-8f78b9dec974",
   "metadata": {},
   "source": [
    "**What are the value conflicts and assumptions?**\n",
    "\n",
    "\n",
    "An assumption is an unstated belief that supports the explicit reasoning.\n",
    "\n",
    "Assumptions are:\n",
    "1. hidden or unstated (in most cases); \n",
    "2. taken for granted;\n",
    "3. influential in determining the conclusion; and\n",
    "4. potentially deceptive."
   ]
  },
  {
   "cell_type": "markdown",
   "id": "5992cfcc-af4f-4060-a807-d8274a60d569",
   "metadata": {},
   "source": [
    "Kinds of assumption: \n",
    "\n",
    "1. Value assumption: are extremely influential in prespective arguments\n",
    "\n",
    "**Critical thinking necessarily involves other people who are concerned about the same issues as you. When you identify assumptions and make them explicit in your interactions with others, you make a tremendous contribution to the quality of the reasoning in our community as well.**"
   ]
  },
  {
   "cell_type": "markdown",
   "id": "d57cd3ea-a43b-48d5-a286-2b759338c4b0",
   "metadata": {},
   "source": [
    "The visible structure of an argument consists of reasons and conclusions.\n",
    "\n",
    "Thus, you are interested only in assumptions that affect the quality of this structure. You can restrict your search for assumptions, therefore, to the structure you have already learned how to identify.\n",
    "\n",
    "In particular, **there are two places to look for assumptions. Look for assumptions needed for the reason (s) to support the conclusions (linkage assumptions) and look for ones necessary for a reason to be true.**"
   ]
  },
  {
   "cell_type": "markdown",
   "id": "d13fa0ba-d294-4a04-87ec-ba4c365629e0",
   "metadata": {},
   "source": [
    "**Look for value assumptions in the movement from reasons to conclusion!**"
   ]
  },
  {
   "cell_type": "markdown",
   "id": "460f6b4f-1e93-4673-bf75-97e5ad80de38",
   "metadata": {},
   "source": [
    "Note that the reasons and conclusion are also the place where we search for significant ambiguity.\n",
    "\n",
    "For ethical or prescriptive arguments, an individual's values influence the reasons he provides and, consequently, his conclusion. In fact, the reasons will logically support the conclusion only if the value assumption is added to the reasoning.\n",
    "\n",
    "By value assumption, we mean a taken-for-granted belief about the relative desirability of certain competing value.\n",
    "\n",
    "When authors take a position on a social controversy, they typically prefer one value over another value- they have value priorities or preferences.\n",
    "\n",
    "Values are ideas that someone thinks is worthwhile.\n",
    "\n",
    "They provides standard of conduct by which we measure the quality of human behavior.\n",
    "\n",
    "It is the importance one assigns to abstract ideas that has the major influence on one’s choices and behavior.\n",
    "\n",
    "Values are standards of conduct that we endorse and expect people to meet."
   ]
  },
  {
   "cell_type": "markdown",
   "id": "9327e11b-7669-4790-9fff-1f784b43f350",
   "metadata": {},
   "source": [
    "![Common Values](./Images/Common-values.jpeg)"
   ]
  },
  {
   "cell_type": "markdown",
   "id": "d589b0f2-776a-4d1d-975c-1d78e2feb9d7",
   "metadata": {},
   "source": [
    "by definition, most values will be on everyone's list. Because many values are shared, values by themselves are not a powerful guide to understanding. **What leads you to answer a prescriptive question differently from someone else is the relative intensity with which you hold specific values.**\n",
    "\n",
    "A writer's preference for particular values is often unstated, but that value preference, nevertheless, will have a major impact on her conclusion and on how she chooses to defend it. **These unstated assertions about value priorities function as value assumptions.**"
   ]
  },
  {
   "cell_type": "markdown",
   "id": "040c01ce-67da-4949-9ae8-0fecc1e3646c",
   "metadata": {},
   "source": [
    "Some refer to these assumptions as _valuejudgments_."
   ]
  },
  {
   "cell_type": "markdown",
   "id": "fd085907-48ed-4b0f-8d90-11e3783450a9",
   "metadata": {},
   "source": [
    "When a writer takes a stand on controversial prescriptive issues, she is usually depreciating one commonly shared value while upholding another.\n",
    "\n",
    "So when you look for value assumptions, look for an indication of value priorities.\n",
    "\n",
    "When you have found a person's value preference in a particular argument, you should not expect that same person to necessarily have the same value priority when discussing a different controversy. **A person does not have the same value priorities without regard to the issue being discussed.**\n",
    "\n",
    "We hold our value preferences only up to a point.\n",
    "\n",
    "value assumptions are very contextual; they apply in one setting, but we may make quite a different value priority when the specifics of the prescriptive issue change.\n",
    "\n",
    "While we can say that particular people tend to make particular value assumptions, we never can be certain about that presumption."
   ]
  },
  {
   "cell_type": "markdown",
   "id": "0eb5ff53-51b2-4a6c-bcfd-56af8b427f37",
   "metadata": {},
   "source": [
    "![Typical Value Conflicts and Sample Controversies](./Images/Typical-Value-Conflict.jpeg)"
   ]
  },
  {
   "cell_type": "markdown",
   "id": "4f80bd38-686f-4576-8d28-fabbb7c82eff",
   "metadata": {},
   "source": [
    "### Some other Conflicts\n",
    "\n",
    "- honesty-harmony\n",
    "- comfort -courage \n",
    "\n",
    "By identifying as many of the relevant value assumptions as possible, you have a better chance of not missing any of the important dimensions of the argument. However, you may have no way of knowing which value assumptions most influence the author's reasoning."
   ]
  },
  {
   "cell_type": "markdown",
   "id": "a08e2916-104f-4877-8279-6e7f85722fb8",
   "metadata": {},
   "source": [
    "An important means of determining an individual's value assumptions is to examine the reasons given in support of a conclusion and then to determine what value priorities would lead to these reasons being judged as more desirable than reasons that might have been offered on the other side of the issue.\n",
    "\n",
    "Note that the magnitude of a consequence may have a major impact on value preferences.\n",
    "\n",
    "It is possible for people to have different conclusions, while having identical value assumptions, because they disagree about the likelihood or magnitude of consequences.\n",
    "\n",
    "One important means of determining value assumptions, then, is to ask the question, \"Why do the particular consequences or outcomes presented as reasons seem so desirable to the writer or speaker?\"\n",
    "\n",
    "Remember: When you identify value assumptions, you should always try to state value priorities."
   ]
  },
  {
   "cell_type": "markdown",
   "id": "284715c9-81af-454b-83a8-81322f6a9e2b",
   "metadata": {},
   "source": [
    "With controversial topics, stating value assumptions in this way will be a continual reminder both of what the writer is giving up and of what she is gaining.\n",
    "\n",
    "Try to resist the temptation to stop your analysis prematurely by just identifying the values of the speaker or writer.\n",
    "\n",
    "Another useful technique for generating value conflicts is to reverse role-play. Ask the question, \"What do those people who would take a different position from the writer's care about?\"\n",
    "\n",
    "Remember, when someone takes a position on a controversial topic, she will be revealing a value priority — a preference for one value over another.\n",
    "\n",
    "Finally, you can always check to see whether the disagreement results from a value conflict concerning the rights of an individual to behave in a particular fashion and the welfare of the group affected by the behavior in question."
   ]
  },
  {
   "cell_type": "markdown",
   "id": "b5045fd0-e774-4398-b51a-ebd37ee92712",
   "metadata": {},
   "source": [
    "![Clues for Identifying Value Assumptions](./Images/Clues-for-Value-Assumptions.jpeg)"
   ]
  },
  {
   "cell_type": "markdown",
   "id": "84e515a6-dac2-4db8-8a6e-3d69bb41a5d1",
   "metadata": {},
   "source": [
    "So push yourself all the way to finding value assumptions. Don't stop your search at levels of analysis that are less revealing.\n",
    "\n",
    "Remember that complete reasoning with respect to prescriptive issues requires reasons and value assumptions."
   ]
  },
  {
   "cell_type": "markdown",
   "id": "60e18016-0a89-43fe-adc4-b2986d783720",
   "metadata": {},
   "source": [
    "![Reasons + Value Assumptions = Conclusion](./Images/Reasons+value-assumption.jpeg)"
   ]
  },
  {
   "cell_type": "markdown",
   "id": "ccb9cc04-24db-42e7-8037-4a3f59fd8aee",
   "metadata": {},
   "source": [
    "However, the choice of value preferences requires reasoning. That reasoning, like any other, can be informed, thoughtful, and caring. But it can also be sloppy and self-absorbed. Hence, value preferences require some justification that critical thinkers can consider. A value preference requires supporting reasons just as does any other conclusion. Then each of us can study the reasoning to form our own reaction."
   ]
  },
  {
   "cell_type": "markdown",
   "id": "855c8b3c-e8af-4371-aafc-448b88621dd1",
   "metadata": {},
   "source": [
    "#### Summary\n",
    "\n",
    "Assumptions are unstated ideas, taken for granted in the reasoning.\n",
    "\n",
    "Within the context of social controversies, they consist of a preference for one value over another in a particular context. \n",
    "\n",
    "The author's background, reaction to projected consequences of acting on a particular value assumption, analogous controversies, and reverse role-playing all provide possible clues for finding a person's value assumptions in a particular controversy."
   ]
  },
  {
   "cell_type": "markdown",
   "id": "63a401dd-157d-4c44-a389-5180333d304d",
   "metadata": {},
   "source": [
    "#### What Are the Value Conflicts and Assumptions?\n",
    "\n",
    "While an author usually offers explicit reasons why she comes to a certain conclusion, she also makes certain assumptions that lead her to a certain conclusion. By identifying value conflicts, you determine whether the author's value preferences match your value preferences. Consequently, you have a tool for determining whether you will accept or reject an author's conclusion."
   ]
  },
  {
   "cell_type": "markdown",
   "id": "5dd1414b-0340-4a18-8323-946152f5ec20",
   "metadata": {},
   "source": [
    "**What are the descriptive assumptions?**\n",
    "\n",
    "_Descriptive assumptions_ are beliefs about the way the world is; _prescriptive or value assumptions_, are beliefs about how the world should be."
   ]
  },
  {
   "cell_type": "markdown",
   "id": "f06430da-cdfd-491c-91a6-b4bd7ad92605",
   "metadata": {},
   "source": [
    "‌**By _itself_, a reason just does not have the strength to support a conclusion; the reason must be connected to the conclusion by certain other (frequently unstated) ideas.**\n",
    "\n",
    "Whether a reason supports, or is relevant to, a conclusion depends on whether we can locate unstated ideas that logically connect the reason to the conclusion.\n",
    "\n",
    "When such unstated ideas are descriptive, we call them **descriptive assumptions**.\n",
    "\n",
    "In a definitional assumption we have taken for granted one meaning of a term that could have more than one meaning.\n",
    "\n",
    "Once you have identified the connecting assumptions, you have answered the question, \"On what basis can that conclusion be drawn from that reason?\" The next natural step is to ask, \"Is there any basis for accepting the assumptions?\" If not, then, for you, the reason fails to provide support for the conclusion. If so, then the reason provides logical support for the conclusion. Thus, you can say reasoning is sound when you have identified connecting assumptions and you have good reason to believe those assumptions."
   ]
  },
  {
   "cell_type": "markdown",
   "id": "04a482aa-5f9b-44fb-a3a4-6c6871b02b07",
   "metadata": {},
   "source": [
    "Attention: A descriptive assumption is an unstated belief about how the world was, is, or will become."
   ]
  },
  {
   "cell_type": "markdown",
   "id": "a44b63c6-ae51-4b7a-8ba7-f0b1c230a70a",
   "metadata": {},
   "source": [
    "Because writers and speakers frequently are not aware of their own assumptions, their conscious beliefs may be quite different from the ideas you identify as implicit assumptions.\n",
    "\n",
    "you are quite willing to believe what you are being told, but as a critical thinker you are in the business of personal development."
   ]
  },
  {
   "cell_type": "markdown",
   "id": "e4213e21-1e7d-4649-80c6-523e50e962bd",
   "metadata": {},
   "source": [
    "#### Clues for Locating Assumptions\n",
    "\n",
    "Your task in finding assumptions is to reconstruct the reasoning by filling in the missing links.\n",
    "\n",
    "Two types of assumptions: \n",
    "1. Value assumptions\n",
    "2. Descriptive assumptions\n",
    "\n",
    "Clues for Locating Assumptions\n",
    "\n",
    "**Keep thinking about the gap between the conclusion and reasons.** \n",
    "Keep asking, _\"How do you get from the reason to the conclusion?\"_ Ask,_\"If the reason is true,what else must be true for the conclusion to follow?_\n",
    "And, to help answer that question, you will find it very helpful to ask, _\"Supposing the reason(s) were true, is there any way in which the conclusion nevertheless could be false. '_\n",
    "\n",
    "**Look for ideas that support reasons.**\n",
    "\n",
    "**Identify with the writer or speaker.** \n",
    "Locating someone's assumptions is often made easier by imagining that you were asked to defend the conclusion.\n",
    "Discover his background.\n",
    "\n",
    "**Identify with the opposition.**\n",
    "try to reverse roles. Ask yourself why anyone might disagree with the conclusion. What type of reasoning would prompt someone to disagree with the conclusion you are evaluating?\n",
    "\n",
    "**Recognize the potential existence of other means of attaining the advantages referred to in the reasons.**\n",
    "\n",
    "Frequently, a conclusion is supported by reasons that indicate the various advantages of acting on the author's conclusion. When there are many ways to reach the same advantages, one important assumption linking the reasons to the conclusion is that the best way to attain the advantages is through the one advocated by the communicator.\n",
    "\n",
    "**Avoid stating incompletely established reasons as assumptions.**\n",
    "\n",
    "**Avoiding Analysis of Trivial Assumptions\n",
    "\n",
    "By trivial, we mean an assumption that is self-evident.\n",
    "You as a reader or listener can assume that the communicator believes his reasons are true. You may want to attack the reasons as insufficient, but it is trivial to point out the writer's or speaker's assumption that the reasons are true.\n",
    "\n",
    "Another type of trivial assumption concerns the reasoning structure. You may be tempted to state that the writer believes that the reason and conclusion are logically related. Right—but trivial.\n",
    "\n",
    "**What is important is how they are logically related.**\n",
    "\n",
    "Avoid spending time on analyzing trivial assumptions. Your search for assumptions will be most rewarding when you locate hidden, debatable missing links."
   ]
  },
  {
   "cell_type": "markdown",
   "id": "62ad6a05-96a9-4cde-9500-28fe057a7adf",
   "metadata": {},
   "source": [
    "#### Summary\n",
    "\n",
    "Assumptions are ideas that, if true, enable us to claim that particular reasons provide support for a conclusion."
   ]
  },
  {
   "cell_type": "markdown",
   "id": "6dbbba82-be74-4d7f-8e98-c42047cb87a5",
   "metadata": {},
   "source": [
    "![Clues for Discovering Descriptive Assumptions](./Images/Clues-for-DiscoveringDescriptiveAssumptions.jpeg)"
   ]
  },
  {
   "cell_type": "markdown",
   "id": "ee040749-04cd-464c-ad9d-4eb5c3a46b33",
   "metadata": {},
   "source": [
    "#### Exercise: \n",
    "\n",
    "1. Is there any gap between the reasons and conclusion? \n",
    "2. ask yourself, \"Is there any basis for believing that the reason(s) might not be true?\"\n",
    "3. Then ask, \"Supposing the reason(s) were true, is there any way in which the conclusion nevertheless could be false?\" \n",
    "4. Try to play the role of a person who does not believe a planner should be a requirement.\n",
    "\n",
    "**Asking Critical Questions**\n",
    "\n",
    "![Asking Critical Questions](./Images/Asking-Critical-Questions.jpeg)"
   ]
  },
  {
   "cell_type": "markdown",
   "id": "310deebd-d7ec-4efb-ae32-5dac0fa6db0b",
   "metadata": {},
   "source": [
    "Your major question now is, _\"How acceptable is the conclusion in light of the reasons provided?\"_\n",
    "\n",
    "**Remember**: The objective of critical reading and listening is to judge the acceptability or worth of conclusions.\n",
    "\n",
    "Three common reasoning tricks or _**fallacies**_:\n",
    "\n",
    "\n",
    "1. providing reasoning that requires erroneous or incorrect assumptions;\n",
    "\n",
    "2. distracting us by making information seem relevant to the conclusion when it is not; and\n",
    "\n",
    "3. providing support for the conclusion that depends on the conclusion's already being true."
   ]
  },
  {
   "cell_type": "markdown",
   "id": "01a4fec6-1292-446c-a647-22d9e7c214b5",
   "metadata": {},
   "source": [
    "**Attention**: A fallacy is a reasoning \"trick\" that an author might use while trying to persuade you to accept a conclusion.\n",
    "\n",
    "**you don't need to be aware of all the fallacies and their names to be able to locate them.**"
   ]
  },
  {
   "cell_type": "markdown",
   "id": "bd70fd36-caea-4359-88d2-f177df127025",
   "metadata": {},
   "source": [
    "##### Ad Hominem fallacy\n",
    "\n",
    "Making irrelevant attacks against a person making a claim, the most common of which is attacking his character or shifting attention to his circumstances or interests.\n",
    "\n",
    "**F: Ad hominem**: An attack, or an insult, on the person, rather than directly addressing the person's reasons.\n",
    "\n",
    "**The more questionable the assumption, the less relevant the reasoning.**"
   ]
  },
  {
   "cell_type": "markdown",
   "id": "77728f81-5658-4790-bf83-9f111371415e",
   "metadata": {},
   "source": [
    "##### Thinking steps in locating fallacies:\n",
    "\n",
    "1. Identify the conclusions and reasons.\n",
    "\n",
    "2. Always keep the conclusion in mind and consider reasons that you think might be relevant to it; contrast these reasons with the author's reasons.\n",
    "\n",
    "3. If the conclusion supports an action, determine whether the reason states a specific and/or concrete advantage or a disadvantage; if not, be wary!\n",
    "\n",
    "4. Identify any necessary assumption by asking yourself, \"If the reason were true, what would one have to believe for it to logically support the conclusion, and what does one have to believe for the reason to be true?\"\n",
    "\n",
    "5. Ask yourself, \"Do these assumptions make sense?\" If an obviously false assumption is being made, you have found a fallacy in reasoning, and that reasoning can then be rejected.\n",
    "\n",
    "6. Check the possibility of being distracted from relevant reasons by phrases that strongly appeal to your emotions."
   ]
  },
  {
   "cell_type": "markdown",
   "id": "4537e799-4555-4554-83d2-b7f85c9f89d1",
   "metadata": {},
   "source": [
    "**F: Slippery Slope**: Making the assumption that a proposed step will set off an uncontrollable chain of undesirable events, when procedures exist to prevent such a chain of events.\n",
    "\n",
    "\n",
    "**F: Searching for Perfect Solution**: Falsely assuming that because part of a problem would remain after a solution is tried, the solution should not be adopted.\n",
    "\n",
    "It takes the form: A solution to X does not deserve our support unless it destroys the problem entirely.\n",
    "\n",
    "Whenever you see a key word in an argument _used more than once_, check to see that the meaning has not changed; if it has, be alert to the **equivocation fallacy**.\n",
    "Highly ambiguous terms or phrases are especially good candidates for the equivocation fallacy.\n",
    "\n",
    "**F: Equivocation**: A key word is used with two or more meanings in an argument such that the argument fails to make sense once the shifts in meaning are recognized.\n",
    "\n",
    "The public often has not sufficiently studied a problem to provide a reasoned judgment. Be wary of appeals to common opinion or to popular sentiment. We label this mistake in reasoning the **appeal to popularity fallacy**.\n",
    "\n",
    "**F: Appeal to Popularity (Ad populum)**: An attempt to justify a claim by appealing to sentiments that large groups of people have in common; falsely assumes that anything favored by a large group is desirable.\n",
    "\n",
    "_Appeals to questionable authority fallacy_. A position is not good just because the authorities are for it.\n",
    "**F: Appeal to questionable authority**: Supporting a conclusion by citing an authority who lacks special expertise on the issue at hand.\n",
    "\n",
    "The use of emotionally charged negative terms serves to distract readers and listeners from the facts.\n",
    "\n",
    "When communicators try to draw emotional reactions from people and then use that reaction to get them to agree to their conclusion, they commit the _fallacy of an Appeal to Emotion_.\n",
    "\n",
    "This fallacy occurs when your emotional reactions should not be relevant to the truth or falsity of a conclusion. Three of the most common places for finding this fallacy are in **advertising**, in **political debate** and in the **courtroom**.\n",
    "\n",
    "The lesson for the critical thinker is: When someone _attacks aspects of a position_, always check to see whether she is fairly representing the position. If she is not, you have located the **strawperson fallacy**.\n",
    "The best way to check how fairly a position is being represented is to get the facts about all positions.\n",
    "\n",
    "**F: Appeals to Emotions**: The use of emotionally charged language to distract readers and listeners from relevant reasons and evidence.\n",
    "\n",
    "**F: Straw Person**: Distorting our opponent's point of view so that it is easy to attack; **thus we attack a point of view that does not truly exist**.\n",
    "\n",
    "When a communicator oversimplifies an issue by stating only two choices, the error is referred to as an either-or or **false dilemma fallacy**.\n",
    "\n",
    "be on the alert for phrases like the following:\n",
    "- either ... or\n",
    "- the only alternative is\n",
    "- the two choices are\n",
    "- because A has not worked, only B will\n",
    "\n",
    "\n",
    "**F: Either-Or (Or False Dilemma)**: Assuming only two alternatives when there are more than two.\n",
    "\n",
    "\n",
    "Reality, or \"what is,\" is often in conflict with \"what should be.\"\n",
    "When reasoning requires us to assume incorrectly that what we think should be matches what is, or what will be, it commits the **wishful thinking fallacy**.\n",
    "\n",
    "We would hope that what should be the case would guide our behavior.\n",
    "\n",
    "The world around us is a poor imitation of what the world should be like.\n",
    "\n",
    "**F: Wishful Thinking**: Making the faulty assumption that because we wish X were true or false, then X is indeed true or false.\n",
    "\n",
    "Explaining is demanding work that often tests the boundaries of what we know.\n",
    "When asked to explain why a certain behavior has occurred, it is frequently tempting to hide our ignorance of a complex sequence of causes by labeling or naming the behavior. Then we falsely assume that because we know the name, we know the cause.\n",
    "\n",
    "We do so because the naming tricks us into believing we have identified something the person has or is that makes her act accordingly.\n",
    "\n",
    "Such explanations oversimplify and prevent us from seeking more insightful understanding.\n",
    "\n",
    "Be alert for this error when people claim that they have discovered a cause for the behavior when all they have actually done is named it.\n",
    "\n",
    "**F: Explaining by Naming**: Falsely assuming that because you have provided a name for some event or behavior that you have also adequately explained the event.\n",
    "\n",
    "The question that helps to detect the fallacies: _**“Has the author tricked us by diverting our attention?\"**_\n",
    "\n",
    "**Glittering Generalities** device leads us to approve or accept a conclusion without examining relevant reasons, evidence, or specific advantages or disadvantages.\n",
    "\n",
    "The Glittering Generality is much like name-calling in reverse because name-calling seeks to make us form a negative judgment without examining the evidence.\n",
    "\n",
    "The use of virtue words is a popular ploy of politicians because it serves to distract the reader or listener from specific actions or policies, which can more easily trigger disagreement.\n",
    "\n",
    "**F: Glittering Generality**: The use of vague emotionally appealing virtue words that dispose us to approve something without closely examining the reasons.\n",
    "\n",
    "When a writer or speaker shifts our attention from the issue, we can say that she has drawn a red herring across the trail of the original issue.\n",
    "\n",
    "Many of us are adept at committing the red herring fallacy, as the following example illustrates:\n",
    "If the daughter is successful, the issue will become whether the mother is picking on her daughter, not why the daughter was out late.\n",
    "\n",
    "You should normally have no difficulty spotting red herrings as long as you keep the real issue in mind as well as the kind of evidence needed to resolve it.\n",
    "\n",
    "**F: Red Herring**: An irrelevant topic is presented to divert attention from the original issue and help to \"win\" an argument by shifting attention away from the argument and to another issue. The fallacy sequence in this instance is as follows: (a) Topic A is being discussed; (b) Topic B is introduced as though it is relevant to topic A, but it is not; and (c) Topic A is abandoned.\n",
    "\n",
    "![Red Herring Fallacy](./Images/Red-Herring-Fallacy.jpeg)\n",
    "\n",
    "\n",
    "\n",
    "\n",
    "\n"
   ]
  },
  {
   "cell_type": "markdown",
   "id": "ff0c7298-b67e-44d1-8772-db87a9db5c88",
   "metadata": {},
   "source": [
    "This sort of \"reasoning\" is fallacious because merely changing the topic of discussion hardly counts as an argument against a claim.\n",
    "\n",
    "Sometimes a conclusion is supported by itself; only the words have been changed to fool the innocent!\n",
    "\n",
    "For example, to argue that dropping out of school is undesirable because it is bad is to argue not at all. **The conclusion is \"proven\" by the conclusion (in different words)**. Such an argument begs the question, rather than answering it.\n",
    "\n",
    "Whenever a conclusion is assumed in the reasoning when it should have been proven, _**begging the question**_ has occurred."
   ]
  },
  {
   "cell_type": "markdown",
   "id": "b94cbe0a-44cc-4f8f-b6b6-50eee100c74c",
   "metadata": {},
   "source": [
    "When you outline the structure of an argument, check the reasons to be sure that they do not simply repeat the conclusion in different words and check to see that the conclusion is not used to prove the reasons.\n",
    "\n",
    "**F: Begging the Question**: An argument in which the conclusion is assumed in the reasoning.\n",
    "\n",
    "_**When you spot a fallacy, you have found a legitimate basis for rejecting the argument.**_\n",
    "\n",
    "If a red herring fallacy occurs, ask the speaker if it would be possible to return to the original issue."
   ]
  },
  {
   "cell_type": "markdown",
   "id": "ee7e7a6d-754a-4416-bd35-6a3841eff3ff",
   "metadata": {},
   "source": [
    "To find reasoning fallacies, keep in mind what kinds of reasons are good reasons—that is, the evidence and the moral principles relevant to the issue.\n",
    "\n",
    "Reasoning should be rejected whenever you have found **mistaken assumptions**, **distractions**, or support for the conclusion that **already assumes** the truth of the conclusion.\n",
    "\n",
    "Reasoning should be approached cautiously when it appeals to **group-approved attitudes** and to **authority**.\n",
    "\n",
    "You should always ask, _**\"Are there good reasons to consider such appeals as persuasive evidence?\"**_"
   ]
  },
  {
   "cell_type": "markdown",
   "id": "2788281a-ff73-4ae4-91ee-bda9ae8ae14e",
   "metadata": {},
   "source": [
    "![Clues for Locating Fallacies](./Images/Clues-for-Fallacies.jpeg)"
   ]
  },
  {
   "cell_type": "markdown",
   "id": "d380050e-6aef-4305-9cfe-d283fd3914f7",
   "metadata": {},
   "source": [
    "_Critical Question_: **How good is the evidence: intuition, personal experience, testimonials, and appeals to authority?**\n",
    "\n",
    "**The need for evidence**\n",
    "\n",
    "Almost all reasoning we encounter includes beliefs about the way the world is, was, or is going to be that the communicator wants us to accept as \"facts.\"\n",
    "\n",
    "These beliefs can be conclusions, reasons, or assumptions. We can refer to such beliefs as factual claims.\n",
    "\n",
    "The first question you should ask about a factual claim is, _\"Why should I believe it ?\"_\n",
    "\n",
    "The next question: _Does the claim need evidence to support it?_\n",
    "\n",
    "Your next question is, _\"Does the claim need evidence to support it?\" If it does, and if there is no evidence, the claim is a mere assertion.\n",
    "\n",
    "You should seriously question the dependability of mere assertions!\n",
    "\n",
    "If there is evidence, your next question is, _\"How good is the evidence?\"_\n",
    "\n",
    "To evaluate reasoning, we need to remember that some factual claims can be counted on more than others.\n",
    "\n",
    "For example, you probably feel quite certain that the claim \"most United States senators are men\" is true, but less certain that the assertion \"practicing yoga reduces the risk of cancer\" is true.\n",
    "\n",
    "Because it is extremely difficult, if not impossible, to establish the absolute truth or falsity of most claims, rather than ask whether they are true, we prefer to ask _**whether they are dependable**_.\n",
    "\n",
    "In essence, we want to ask, _\"Can we count on such beliefs?\"_ The greater the quality and quantity of evidence supporting a claim, the more we can depend on it, and the more we can call the claim a **\"fact.\"**\n",
    "\n"
   ]
  },
  {
   "cell_type": "markdown",
   "id": "a84f4055-55d6-454a-be8a-5d15a9f6d580",
   "metadata": {},
   "source": [
    "_**The major difference between claims that are opinions and those that are facts is the present state of the relevant evidence.**_"
   ]
  },
  {
   "cell_type": "markdown",
   "id": "b587dc9b-e787-4a1a-a8bf-f800184fabca",
   "metadata": {},
   "source": [
    "The more supporting evidence there is for a belief, the more \"factual\" the belief becomes.\n",
    "\n",
    "Before we judge the persuasiveness of a communication, we need to know which factual claims are most dependable. How do we determine dependability? We ask questions like the following:\n",
    "\n",
    "- What is your proof?\n",
    "- Where's the evidence?\n",
    "- Are you sure that's true?\n",
    "- How do you know that's true?\n",
    "- Why do you believe that?\n",
    "- Can you prove it?\n",
    "\n",
    "When people react to simple requests for evidence with **anger** or **withdrawal**, they usually do so because they are embarrassed as they realize that, without evidence, **they should have been less assertive about their beliefs**.\n",
    "\n",
    "The more dependable the factual claims, the more persuasive the communications should be.\n",
    "\n",
    "**Locating factual claims**\n",
    "\n",
    "We encounter factual claims as **(a)** descriptive conclusions, **(b)** reasons used to support either descriptive or prescriptive conclusions, or **(c)** descriptive assumptions.\n",
    "\n",
    "There are three instances in which we will be most inclined to agree with a factual claim:\n",
    "\n",
    "1. when the claim appears to be undisputed common knowledge, such as the claim \"weight lifting increases muscular body mass;\"\n",
    "\n",
    "2. when the claim is the conclusion from a well-reasoned argument;\n",
    "\n",
    "3. when the claim is adequately supported by solid evidence in the same communication or by other evidence that we know.\n",
    "\n",
    "\n",
    "**Attention**: Evidence is explicit information shared by the communicator that is used to back up or to justify the dependability of a factual claim (see Chapter 3). In prescriptive arguments, evidence will be needed to support reasons that are factual claims; in descriptive arguments, evidence will be needed to directly support a descriptive conclusion."
   ]
  },
  {
   "cell_type": "markdown",
   "id": "eebc2b77-9b55-4842-a810-cfc42ed4bfb2",
   "metadata": {},
   "source": [
    "The quality of evidence depends on the kind of evidence it is.\n",
    "\n",
    "Thus, to evaluate evidence, we first need to ask, _\"What kind of evidence is it?\"_ Knowing the kind of evidence tells us what questions we should ask.\n",
    "\n",
    "Major kinds of evidence include:\n",
    "- intuition\n",
    "- personal experience\n",
    "- testimonials\n",
    "- appeals to authorities\n",
    "- personal observations\n",
    "- case examples\n",
    "- research studies\n",
    "- analogies\n",
    "\n",
    "When used appropriately, each kind of evidence can be \"good evidence.\"\n",
    "\n",
    "We begin to evaluate evidence by asking, _\"How good is the evidence”?_\n",
    "\n",
    "\" Always keep in the back of your mind that no evidence will be a slam dunk that gets the job done conclusively.\n",
    "You are looking for better evidence; searching for altogether wonderful evidence will be frustrating.\n",
    "\n",
    "When we use intuition to support a claim, we rely on _\"common sense,\"_ or on our _\"gut feelings,\"_ or on hunches.\n",
    "\n",
    "A major problem with intuition is that it is **private**; others have no way to judge its dependability.\n",
    "\n",
    "Also, much intuition relies on unconscious processing that largely ignores relevant evidence and reflects strong biases.\n",
    "\n",
    "Consequently, we must be very wary of claims backed up only by intuition.\n",
    "\n",
    "However, sometimes \"intuition\" may in fact be relying on some other kind of evidence, such as extensive relevant personal experiences and readings.\n",
    "\n",
    "As critical thinkers, we would want to find out whether claims relying on intuition have any other kinds of evidential support.\n",
    "\n",
    "Both arguments appeal to personal experiences as evidence. Phrases like \"I know someone who ...,\" and \"In my experience, I've found ...\" should alert you to such evidence.\n",
    "\n",
    "Because personal experiences are very vivid in our memories, we often rely on them as evidence to support a belief.\n",
    "\n",
    "\n",
    "**Appeals to intuitions**\n",
    "\n",
    "A single striking experience or several such experiences can demonstrate that certain outcomes are possible.\n",
    "\n",
    "**Appeals to intuitions**\n",
    "A single striking experience or several such experiences can demonstrate that certain outcomes are possible.\n",
    "\n",
    "**F: Hasty Generalization Fallacy**: A person draws a conclusion about a large group based on experiences with only a few members of the group.\n",
    "\n",
    "**Appeals to testimonials**\n",
    "\n",
    "Commercials, ads for movies, recommendations on the backs of book jackets, and \"proofs\" of the existence of the paranormal or other controversial or extraordinary life events often try to persuade by using a special kind of appeal to personal experience;\n",
    "\n",
    "They quote particular persons as saying that a given idea or product is good or bad, or that extraordinary events have occurred, based upon their personal experiences. Such quoted statements serve as personal testimonials.\n",
    "\n",
    "How helpful is such evidence? Usually, it is not very helpful at all. In most cases, **we should pay little attention to personal testimonials until we find out much more about the expertise, interests, values, and biases behind them***."
   ]
  },
  {
   "cell_type": "markdown",
   "id": "b9d310be-9510-4c31-90a8-5ddd05816384",
   "metadata": {},
   "source": [
    "#### Problems with testimonials\n",
    "\n",
    "**Selectivity**. People's experiences differ greatly. Those trying to persuade us have usually carefully selected the testimony they use.\n",
    "We should always ask the question, _\"What was the experience like for those whom we have not heard from?\"_\n",
    "the people who provide the testimonials have often been selective in their attention, paying special attention to information that confirms their beliefs and ignoring disconfirming information.\n",
    "**Often, believing is seeing!** Our expectancies greatly influence how we experience events. \n",
    "If we believe that aliens live among us, or that humans never really landed on the moon, then we are more likely to see ambiguous images as aliens or as proof of the government conspiracy regarding the moon landing.\n",
    "\n",
    "**Personal interest**. Many testimonials such as those used for books, movies, and television products come from people who have something to gain from their testimony.\n",
    "We need to ask, _\"Does the person providing the testimony have a relationship with what he is advocating such that we can expect a strong bias in his testimony?\"_\n",
    "\n",
    "**Omitted information**. Testimonials rarely provide sufficient information about the basis for the judgment.\n",
    "Our standards for judgment may well differ from the standards of those giving the testimony.\n",
    "We often have too little information to decide whether we should treat such claims seriously.\n",
    "\n",
    "**The human factor**. One reason that testimonials are so convincing is that they come from human beings and they are very vivid and detailed, a marked contrast to statistics and graphs, which tend to be very abstract. \n",
    "They are often provided by very enthusiastic people, who seem trustworthy, well-meaning, and honest. Such people make us want to believe them.\n",
    "\n",
    "\n",
    "**Appeals to authorities as evidence**\n",
    "\n",
    "**Authority**: sources that are supposed to know more than most of us about a given topic – so called experts. \n",
    "\n",
    "When communicators appeal to authorities or experts, they appeal to people who they believe are in a position to have access to certain facts and to have special qualifications for drawing conclusions from the facts.\n",
    "\n",
    "You encounter appeals to many forms of authority on a daily basis. And you have little choice but to rely on them because you have neither the time nor the knowledge to become adept in more than a few dimensions of our very complicated lives.\n",
    "\n",
    "It should be obvious that some appeals to authority should be taken much more seriously as evidence than others. Why? Some authorities are much more careful in giving an opinion than others.\n",
    "\n",
    "You should remember, that for many reasons, authorities are often wrong.\n",
    "Also, they often disagree.\n",
    "\n",
    "We need to ask, _\"Why should we believe this authority?\"_ More specifically, we should ask the following questions of authorities.\n",
    "\n",
    "_How much expertise or training does the authority have about the subject about which he is communicating?\n",
    "Is this a topic the person has studied for a long time? Or, has the person had extensive experience related to the topic?\n",
    "Was the authority in a position to have especially good access to pertinent facts._\n",
    "\n",
    "\n",
    "For example, was she a firsthand observer of the events about which she makes claims? Or, has a newspaper reporter, for example, actually witnessed an event, or has she merely relied upon reports from others?"
   ]
  },
  {
   "cell_type": "markdown",
   "id": "4c3c87f9-6a23-4f7f-a958-813d4626cda5",
   "metadata": {},
   "source": [
    "If the authority is not a firsthand observer, whose claims is she repeating? Why should we rely on those claims? In general, you should be more impressed by primary sources—or direct observers— than by secondary sources, those who are relying on others for their evidence. Time and Newsweek, for example, are secondary sources, while research journals such as the Journal of the American Medical Association are primary sources.\n",
    "\n",
    "Is there good reason to believe that the authority is relatively free of distorting influences?\n",
    "Among the factors that can influence how evidence is reported are **personal needs**, **prior expectations**, **general beliefs**, **attitudes**, **values**, **theories**, and **ideologies**.\n",
    "\n",
    "These can subconsciously or deliberately affect how evidence is presented.\n",
    "We would want to be concerned about the possibility that he has sought out only those reasons that justify his own biases.\n",
    "\n",
    "By having bias and prejudice, we mean the existence of a strong personal feeling about the goodness or badness of something up front before we look at the evidence, such that it interferes with our ability to evaluate evidence fairly."
   ]
  },
  {
   "cell_type": "markdown",
   "id": "ad9f0b85-aee6-4a3e-a152-2900dd440531",
   "metadata": {},
   "source": [
    "Because many factors bias us in virtually all our judgments, we cannot expect any authority to be totally unbiased.\n",
    "\n",
    "Because an authority can have a personal interest in an issue and still make dependable claims, we should not reject a claim simply because we suspect that the authority's personal interests may interfere with her fairness.\n",
    "**One helpful step we can take is to check to see whether authorities with diverse attitudes, prior expectations, values, and interests agree**.\n",
    "\n",
    "Thus, we need to ask the questions: _\"Has the authority developed a reputation for frequently making dependable claims? Have we been able to rely on this authority in the past?\"_\n",
    "\n",
    "When we go online, virtually everyone becomes an \"authority,\" because people are free to claim whatever they wish, and there is no built-in process to evaluate such claims. It is clearly a **\"buyers beware\" situation**!\n",
    "\n",
    "When you identify problems with intuition, personal experience, testimonials, and appeals to authority as evidence, you then have a proper basis for hesitating to accept the conclusion based on that evidence.\n",
    "\n",
    "![Clues for Evaluating Evidence](./Images/Clues-for-Evaluating-the-Evidence.jpeg)"
   ]
  },
  {
   "cell_type": "markdown",
   "id": "8eadb222-dfc9-4fdd-bc8d-afbcfb3f20e4",
   "metadata": {},
   "source": [
    "_Critical Question: How good is the evidence: personal observation, research studies, case examples, and analogies?_\n",
    "\n",
    "One valuable kind of evidence is personal observation, the basis for much scientific research.\n",
    "\n",
    "We feel confident of something we actually see. Thus, we tend to rely on eyewitness testimony as evidence.\n",
    "\n",
    "**A difficulty with personal observation, however, is the tendency to see or hear what we wish to see or hear, selecting and remembering those aspects of an experience that are most consistent with our previous experience and background.**\n",
    "\n",
    "Observers, unlike certain mirrors, do not give us \"pure\" observations.\n",
    "\n",
    "While personal observations can often be valuable sources of evidence, we need to recognize that they are not unbiased \"mirrors of reality\"; and when they are used to support controversial conclusions, we should seek verification by other observers as well as other kinds of evidence to support the conclusion.\n",
    "\n",
    "\n",
    "**Remember that observational reports get increasingly problematic as the time between the observation and the report of the observation increases.**\n",
    "\n",
    "One form of authority that relies a great deal on observation and often carries special weight is the research study: usually a systematic collection of observations by people trained to do scientific research.\n",
    "\n",
    "Society has turned to the scientific method as an important guide for determining the facts because the relationships among events in our world are very complex, and because humans are fallible in their observations and theories about these events.\n",
    "\n",
    "The scientific method attempts to avoid many of the built-in biases in our observations of the world and in our intuition and common sense.\n",
    "\n",
    "What is special about the scientific method? Above all, it seeks information in the form of publicly verifiable data—that is, data obtained under conditions such that other qualified people can make similar observations and see whether they get the same results.\n",
    "\n",
    "A second major characteristic of scientific method is control—that is, the using of special procedures to reduce error in observations and in the interpretation of research findings.\n",
    "\n",
    "Unfortunately, control is usually more difficult in the social world than in the physical world; thus it is very difficult to successfully apply the scientific method to many questions about complex human behavior.\n",
    "\n",
    "Precision in language is a third major component of the scientific method. \n",
    "Concepts are often confusing, obscure, and ambiguous. Scientific method tries to be precise and consistent in its use of language.\n",
    "\n",
    "scientific research, when conducted well, is one of our best sources of evidence because it emphasizes **verifiability**, **control**, and **precision**.\n",
    "\n",
    "There are a number of important questions we want to ask about research studies before we decide how much to depend on their conclusions.\n",
    "\n",
    "When communicators appeal to research as a source of evidence, you should remember the following:\n",
    "\n",
    "1. **Research varies greatly in quality**; publication in a scientific journal does not guarantee that a research study is not flawed in important ways.\n",
    "\n",
    "2. **Research findings often contradict one another**. Research findings that most deserve our attention are those that have been repeated by more than one researcher or group of researchers. We need to always ask the question: _\"Have other researchers verified the findings?\"_\n",
    "\n",
    "3. **Research findings do not prove conclusions**. At best they **support conclusion**. Research findings do not speak for themselves! Researchers must always interpret the meaning of their findings, and all findings can be interpreted in more than one way. Thus, researchers' conclusions should not be treated as demonstrated \"truths.\" When you encounter statements such as \"research findings show...\" you should retranslate them into \"researchers interpret their research findings as showing . . . \"\n",
    "\n",
    "4. Like all of us, researchers have expectations, attitudes, values, and needs that **bias** the questions they ask, the way they conduct their research, and the way they interpret their research findings.\n",
    "\n",
    "A major strength of scientific research is that it tries to make public its procedures and results so that others can judge the merit of the research and then try to replicate it.\n",
    "\n",
    "5. Speakers and writers often distort or simplify research conclusions.\n",
    "\n",
    "6. Research \"facts\" change over time, especially claims about human behavior. \n",
    "\n",
    "7. Research varies in how artificial it is. Often, to achieve the goal of control, research loses some of its \"real-world\" quality.\n",
    "\n",
    "8. The need for financial gain, status, security, and other factors can affect research outcomes.\n",
    "\n",
    "![Clues for Evaluating Research Studies](./Images/Clues-for-Evaluating-Research-Studies.jpeg)\n",
    "\n",
    "![](./Images/ContinueofEvaluationresearchstudies.jpeg)\n",
    "\n"
   ]
  },
  {
   "cell_type": "markdown",
   "id": "a6571989-31f2-4cf1-89c9-1b81fff5871a",
   "metadata": {},
   "source": [
    "**Generalizing from the Research Samples**\n",
    "\n",
    "The ability to generalize from research findings depends on the **number**, **breadth**, and **randomness** of events or people the researchers study.\n",
    "\n",
    "The process of selecting events or persons to study is called sampling. \n",
    "\n",
    "1. The sample must be large enough to justify the generalization or conclusion. \n",
    "2. The sample must possess as much breadth, or diversity, as the types of events about which conclusions are to be drawn.\n",
    "3. The more random the sample, the better. an equal chance of getting sampled.\n",
    "\n",
    "The question that we want to ask of all research studies: _\"How many events or people did they sample, how much breadth did the sample have, and how random was the sample?\"_\n",
    "\n",
    "A common problem that stems from not paying enough attention to the limits of sampling is for communicators to overgeneralize research findings. → **the Hasty Generalization fallacy**\n",
    "\n",
    "Remember: We can generalize only to people and events that are like those that we have studied in the research!\n",
    "\n",
    "Remember: You cannot assume that verbal reports accurately reflect true attitudes.\n",
    "\n",
    "You should always ask the question: _\"How were the survey questions worded?\" Usually, the more specifically worded a question, the more likely that different individuals will interpret it similarly._\n",
    "\n",
    "Surveys contain many built-in biases that make them even more suspect. Two of the most important are **biased wording** and **biased context**. Biased wording of a question is a common problem; a small change in how a question is asked can have a major effect on how a question is answered.\n",
    "\n",
    "Another important contextual factor is length. In long surveys, people may respond differently to later items than to earlier items simply because they get tired.\n",
    "\n",
    "As long as we are careful and do not generalize further than warranted, we could treat survey evidence as good evidence.\n",
    "\n",
    "Once you have ascertained the quality of the procedures, you can choose to generate your own qualified generalization—one that takes into account any biases you might have found. **Even biased surveys can be informative**; but you need to know the biases in order to not be unduly persuaded by the findings.\n",
    "\n",
    "**One Example**: (Read the example in the book page 126-127) The research is presented here in an uncritical fashion. We see no sign of strong-sense critical thinking. The report makes no references to special strengths or weaknesses of the study, although it does provides some detail about the research procedures so that we can make judgments about its worth as the basis of a generalization. There is no indication of whether the study has been replicated. Also, we do not know how selective the communicator has been in choosing studies, nor how this research fits into the broader context of research on children and their enjoyment of reading. We do not know what benefits publishing this study may have had for the researchers.\n",
    "\n",
    "The questions we should ask about the smaples: How were these children selected? How was the study advertised to the parents? Could there have been a bias in the kind of parents willing to sign up for such a study? Would we have gotten similar results if we had randomly chosen families from a large number of schools throughout the country?\n",
    "\n",
    "**Case Examples as Evidence**\n",
    "\n",
    "A frequently used kind of evidence that contrasts markedly to the kind of research study that we have just described, which emphasized studying large representative samples, is the use of a detailed description of one or several individuals or events to support a conclusion.\n",
    "\n",
    "Such descriptions are usually based on observations or interviews and vary from being in depth and thorough to being superficial. We call such descriptions case examples.\n",
    "\n",
    "Case examples are often compelling to us because of their colorfulness and their interesting details, which make them easy to visualize.\n",
    "\n",
    "Political candidates have increasingly resorted to case examples in their speeches, knowing that the rich details of cases generate an emotional reaction. Such cases, however, should be viewed more as striking examples or anecdotes than as proof, and we must be very suspicious of their use as evidence.\n",
    "\n",
    "Dramatic cases appeal to our emotions and distract us from seeking other more relevant research evidence.\n",
    "\n",
    "Be wary of striking case examples as proof!\n",
    "\n",
    "Although case examples will be consistent with a conclusion, do not let that consistency fool you. Always ask yourself: _\"Is the example typical?\" \"Are there powerful counterexamples?\" \"Are there biases in how the example is reported?\"_\n",
    "\n",
    "Are there times that case examples can be useful, even if they are not good evidence? Certainly! Like personal experiences, they demonstrate important possibilities and put a personal face on abstract statistics. They make it easier for people to relate to an issue and thus take more interest in it.\n",
    "\n",
    "**Analogies as Evidence**\n",
    "\n",
    "Communicators often use resemblance as a form of evidence. They reason in the following way: _\"If these two things are alike in one respect, then they will probably be alike in other respects as well.\"_\n",
    "\n",
    "An argument that uses a well-known similarity between two things as the basis for a conclusion about a relatively unknown characteristic of one of those things is _an argument by analogy_.\n",
    "\n",
    "**Analogies both stimulate insights and deceive us.**\n",
    "\n",
    "For example, analogies have been highly productive in scientific and legal reasoning. When we infer conclusions about humans on the basis of research with mice, we reason by analogy. Much of our thinking about the structure of the atom is analogical reasoning. When we make a decision in a legal case, we may base that decision on the similarity of that case to preceding cases. For example, when judges approach the question of whether restricting pornographic material violates the constitutional protection of free speech and freedom of expression, they must decide whether the potentially obscene pornographic material is analogous to freedom of speech; thus, they reason by analogy. Such reasoning can be quite insightful and persuasive.\n",
    "\n",
    "\n",
    "Accurate analogies are powerful, but are often difficult for people to evaluate. Analogies compare two known things to allow the reader to better understand the relationship to something that is unfamiliar.\n",
    "\n",
    "The first part of an analogy involves a familiar object or concept. That object or concept is being compared to another familiar object or concept. The second part is the relationship between the familiar objects or concepts. This relationship is used to create a principle that can be used to assist the understanding of a different object or concept. Finally, the relationship of the new or unfamiliar object or concept is described in the same format as the known object or concept.\n",
    "\n",
    "It is especially important to identify analogies when they are used to set the tone of the conversation. Such analogies are used to \"frame\" an argument.\n",
    "\n",
    "To identify framing analogies, look for comparisons that are used to not only explain a point, but also to influence the direction a discussion will take.\n",
    "\n",
    "Always look for comparisons that attempt to direct the reaction to an object through framing.\n",
    "\n",
    "A careful evaluation of framing analogies will prevent you from being misled by a potentially deceptive analogy.\n",
    "\n",
    "Framing analogies is not the only thing to be wary of when looking for analogies in arguments. One must also be careful when evaluating arguments that use overly emotional comparisons.\n",
    "\n",
    "However, we must evaluate the analogy to see whether it is really accurate or simply an emotional comparison intended to coerce people into agreeing with a certain perspective by making the alternative seem ridiculous.\n",
    "\n",
    "Overly emotional analogies cloud the real issues in arguments and prevent substantive discourse.\n",
    "\n",
    "To evaluate the quality of an analogy, you need to focus on two factors. \n",
    "1. The number of ways the two things being compared are similar and different. \n",
    "2. The relevance of the similarities and the differences.\n",
    "\n",
    "**A word of caution: You can almost always find some similarities between any two things.**\n",
    "\n",
    "Strong analogies will be ones in which the two things we compare possess relevant similarities and lack relevant differences.\n",
    "\n",
    "**All analogies try to illustrate underlying principles.**\n",
    "\n",
    "Relevant similarities and differences are ones that directly relate to the underlying principle illustrated by the analogy.\n",
    "\n",
    "Another strategy that may help you evaluate reasoning by analogy is to generate alternative analogies for understanding the same phenomenon that the author or speaker is trying to understand.\n",
    "\n",
    "A productive way to generate your own analogies is the following: \n",
    "1. Identify some important features of what you are studying. \n",
    "2. Try to identify other situations with which you are familiar that have some similar features. Give free rein to your imagination. Brainstorm. Try to imagine diverse situations. \n",
    "3. Try to determine whether the familiar situation can provide you with some insights about the unfamiliar situation.\n",
    "\n",
    "Ask the questions you need to ask to determine the structure of the argument. Then, ask the questions to evaluate the argument. Look for relevant similarities and differences. Usually, the greater the ratio of relevant similarities to relevant differences, the stronger the analogy. An analogy is especially compelling if you can find no relevant difference and you can find good evidence that the relevant similarities do indeed exist.\n",
    "\n",
    "**F: Faulty Analogy**: Occurs when an analogy is proposed in which there are important relevant dissimilarities.\n",
    "\n",
    "In one sense, all analogies are faulty, because they make the mistaken assumption that because two things are alike in one or more respects, they are necessarily alike in some other important respect. It is probably best for you to think of analogies as varying from very weak to very strong. **But even the best analogies are only suggestive**.\n",
    "\n",
    "Thus if an author draws a conclusion about one case from a comparison to another case, then she should provide further evidence to support the principle revealed by the most significant similarity.\n",
    "\n",
    "When you encounter any evidence, you should try to determine its quality by asking, _\"How good is the evidence?\"_\n",
    "\n",
    "**Are There Rival Causes?**\n",
    "\n",
    "**Attention**: A rival cause is a plausible alternative explanation that can explain why a certain outcome occurred.\n",
    "\n",
    "**When to look for rival causes**\n",
    "\n",
    "You need to look for rival causes when you have good reason to believe that the writer or speaker is using evidence to support a claim about the cause of something.\n",
    "\n",
    "The word cause means \"to bring about, make happen, or affect.\"\n",
    "\n",
    "Communicators can indicate causal thinking to you in a number of ways. We have listed a few. \n",
    "- X has the effect of…\n",
    "- .. X leads to . . .\n",
    "- X influences . . .\n",
    "- X is a factor in . . . \n",
    "- X is linked to . . . \n",
    "- X deters .. .\n",
    "- X increases the likelihood . . . \n",
    "- X determines . . .\n",
    "- X contributes to . . .\n",
    "- X is associated with . . .\n",
    "\n",
    "Once you note such a claim, be alert to the possibility of rival causes."
   ]
  },
  {
   "cell_type": "markdown",
   "id": "c211ec18-5a7e-4336-b976-1093d3a8dea2",
   "metadata": {},
   "source": [
    "![Lessons Learned](./Images/Lessons-Learned.jpeg)"
   ]
  },
  {
   "cell_type": "markdown",
   "id": "20d9f45c-13a0-4dcc-8114-63767a14d664",
   "metadata": {},
   "source": [
    "When you recognize situations in which rival causes are possible, you want to ask yourself questions like:\n",
    "\n",
    "![](./Images/Ask-yourself-questions.png)"
   ]
  },
  {
   "cell_type": "markdown",
   "id": "c5f5fa9e-5e33-4330-af78-0d33aceebe79",
   "metadata": {},
   "source": [
    "beginning of the word file"
   ]
  },
  {
   "cell_type": "code",
   "execution_count": null,
   "id": "cc3cb480-77c1-4f5b-87b4-0d3fe4e19e9f",
   "metadata": {},
   "outputs": [],
   "source": []
  }
 ],
 "metadata": {
  "kernelspec": {
   "display_name": "Python 3 (ipykernel)",
   "language": "python",
   "name": "python3"
  },
  "language_info": {
   "codemirror_mode": {
    "name": "ipython",
    "version": 3
   },
   "file_extension": ".py",
   "mimetype": "text/x-python",
   "name": "python",
   "nbconvert_exporter": "python",
   "pygments_lexer": "ipython3",
   "version": "3.10.9"
  }
 },
 "nbformat": 4,
 "nbformat_minor": 5
}
