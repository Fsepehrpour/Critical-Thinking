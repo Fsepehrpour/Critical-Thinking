{
 "cells": [
  {
   "cell_type": "markdown",
   "id": "75e54985-fce4-475b-b277-ebb87b211a3f",
   "metadata": {},
   "source": [
    "#                Asking The Right Questions\n",
    "### A Guide to Critical Thinking \n",
    "##### M. Neil Browne * Stuart M. Keely\n",
    "\n",
    "![Book Cover](./CriticalThinking.png)"
   ]
  },
  {
   "cell_type": "markdown",
   "id": "6fd94bea-5075-4a6a-9e3f-caa4ad32fc87",
   "metadata": {},
   "source": [
    "Critical thinking refers to the following:\n",
    "1. awareness of a set of interrelated critical questions;\n",
    "2. ability to ask and answer critical questions at appropriate times; and the\n",
    "3. desire to actively use the critical questions."
   ]
  },
  {
   "cell_type": "markdown",
   "id": "25290955-48cd-4339-83c1-cd00772ea97d",
   "metadata": {},
   "source": [
    "Questions require the person being asked the question to act in response."
   ]
  },
  {
   "cell_type": "markdown",
   "id": "3ef4d801-1474-4933-8619-d1bd4e32b8a2",
   "metadata": {},
   "source": [
    "By our questions, we are saying to the person: I am curious; I want to know more; help me. This request shows respect for the other person.\n"
   ]
  },
  {
   "cell_type": "markdown",
   "id": "870d25ba-bed0-4010-b73d-7a806bfc7b60",
   "metadata": {},
   "source": [
    "**The Right Questions:**\n",
    "1. What are the issues and the conclusions?\n",
    "2. What are the reasons? \n",
    "3. Which words or phrases are ambiguous? \n",
    "4. What are the value conflicts and assumptions? \n",
    "5. What are the descriptive assuptions?\n",
    "6. Are there any fallacies in the reasoning?\n",
    "7. How good is the evidence? \n",
    "8. Are there rival causes?\n",
    "9. Are the statistics deceptive?\n",
    "10. What significant information is omitted? \n",
    "11. What reasonable conclusions are possible?"
   ]
  },
  {
   "cell_type": "markdown",
   "id": "b1f65b59-e55a-4dec-9c6e-dbbdea89378c",
   "metadata": {},
   "source": [
    "**About The first Question**"
   ]
  },
  {
   "cell_type": "markdown",
   "id": "dac56dc3-20ba-47a9-a3a5-01311ce47e0b",
   "metadata": {},
   "source": [
    "There are two types of issues: \n",
    "\n",
    "**a)** descriptive issues answered by the following questiosn: \n",
    "\n",
    "Do? \n",
    "What?\n",
    "Who?\n",
    "How?\n",
    "\n",
    "**b)** ethical or moral issues asnwered by following questiosn: \n",
    "\n",
    "Should? \n",
    "What ought to be done? \n",
    "Must?"
   ]
  },
  {
   "cell_type": "code",
   "execution_count": null,
   "id": "16f5df5c-d4e9-4a2c-93a6-9c5513bb2986",
   "metadata": {},
   "outputs": [],
   "source": []
  }
 ],
 "metadata": {
  "kernelspec": {
   "display_name": "Python 3 (ipykernel)",
   "language": "python",
   "name": "python3"
  },
  "language_info": {
   "codemirror_mode": {
    "name": "ipython",
    "version": 3
   },
   "file_extension": ".py",
   "mimetype": "text/x-python",
   "name": "python",
   "nbconvert_exporter": "python",
   "pygments_lexer": "ipython3",
   "version": "3.10.9"
  }
 },
 "nbformat": 4,
 "nbformat_minor": 5
}
